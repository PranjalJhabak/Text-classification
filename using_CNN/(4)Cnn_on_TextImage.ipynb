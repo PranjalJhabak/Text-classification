{
 "cells": [
  {
   "cell_type": "markdown",
   "metadata": {},
   "source": [
    "# Agenda\n",
    "## Building Cnn Architecture to train data and test it on test data to find the accuracy\n",
    "## Giving input to cnn the textImageMatrix created in the previous code after reshaping it to proper form"
   ]
  },
  {
   "cell_type": "code",
   "execution_count": 1,
   "metadata": {
    "collapsed": false
   },
   "outputs": [
    {
     "name": "stderr",
     "output_type": "stream",
     "text": [
      "Using Theano backend.\n"
     ]
    }
   ],
   "source": [
    "from keras.models import Sequential\n",
    "from keras.layers import Dense, Dropout, Activation, Flatten\n",
    "from keras.layers import Convolution2D, MaxPooling2D, Convolution1D\n",
    "from keras.utils import np_utils\n",
    "from keras.datasets import mnist"
   ]
  },
  {
   "cell_type": "markdown",
   "metadata": {},
   "source": [
    "#### loading 3d matrix of text, generated from previous code"
   ]
  },
  {
   "cell_type": "code",
   "execution_count": 2,
   "metadata": {
    "collapsed": true
   },
   "outputs": [],
   "source": [
    "import numpy as np\n",
    "t = np.load('TextimageMatrix.npy')"
   ]
  },
  {
   "cell_type": "code",
   "execution_count": 3,
   "metadata": {
    "collapsed": false
   },
   "outputs": [
    {
     "data": {
      "text/plain": [
       "(200L, 10L, 57279L)"
      ]
     },
     "execution_count": 3,
     "metadata": {},
     "output_type": "execute_result"
    }
   ],
   "source": [
    "t.shape"
   ]
  },
  {
   "cell_type": "code",
   "execution_count": null,
   "metadata": {
    "collapsed": true
   },
   "outputs": [],
   "source": []
  },
  {
   "cell_type": "code",
   "execution_count": 4,
   "metadata": {
    "collapsed": true
   },
   "outputs": [],
   "source": [
    "import pandas as pd\n",
    "df = pd.read_csv(\"CleanedData_updated.csv\")"
   ]
  },
  {
   "cell_type": "code",
   "execution_count": 5,
   "metadata": {
    "collapsed": false
   },
   "outputs": [
    {
     "data": {
      "text/plain": [
       "(57279, 11)"
      ]
     },
     "execution_count": 5,
     "metadata": {},
     "output_type": "execute_result"
    }
   ],
   "source": [
    "df1 = df[:57279]\n",
    "df1.shape"
   ]
  },
  {
   "cell_type": "code",
   "execution_count": 6,
   "metadata": {
    "collapsed": false
   },
   "outputs": [],
   "source": [
    "indices = np.arange(df1.shape[0])"
   ]
  },
  {
   "cell_type": "code",
   "execution_count": null,
   "metadata": {
    "collapsed": true
   },
   "outputs": [],
   "source": []
  },
  {
   "cell_type": "markdown",
   "metadata": {
    "collapsed": true
   },
   "source": [
    "### splitting data into train n test"
   ]
  },
  {
   "cell_type": "code",
   "execution_count": 7,
   "metadata": {
    "collapsed": false
   },
   "outputs": [
    {
     "name": "stderr",
     "output_type": "stream",
     "text": [
      "C:\\Users\\pranj\\Anaconda2\\lib\\site-packages\\sklearn\\cross_validation.py:44: DeprecationWarning: This module was deprecated in version 0.18 in favor of the model_selection module into which all the refactored classes and functions are moved. Also note that the interface of the new CV iterators are different from that of this module. This module will be removed in 0.20.\n",
      "  \"This module will be removed in 0.20.\", DeprecationWarning)\n"
     ]
    },
    {
     "data": {
      "text/plain": [
       "(200L, 10L, 11456L)"
      ]
     },
     "execution_count": 7,
     "metadata": {},
     "output_type": "execute_result"
    }
   ],
   "source": [
    "from sklearn.cross_validation import train_test_split\n",
    "\n",
    "train, test, y_train, y_test = train_test_split(indices,df1.class_category, test_size=0.2, random_state=42)\n",
    "x_train = t[:,:,train]\n",
    "x_test = t[:,:,test]\n",
    "x_test.shape"
   ]
  },
  {
   "cell_type": "markdown",
   "metadata": {},
   "source": [
    "#### reshaping is required as "
   ]
  },
  {
   "cell_type": "code",
   "execution_count": 8,
   "metadata": {
    "collapsed": true
   },
   "outputs": [],
   "source": [
    "X_train = x_train.reshape(x_train.shape[2], 10, 200,1)\n",
    "X_test = x_test.reshape(x_test.shape[2], 10, 200, 1)"
   ]
  },
  {
   "cell_type": "code",
   "execution_count": 9,
   "metadata": {
    "collapsed": false
   },
   "outputs": [
    {
     "data": {
      "text/plain": [
       "(11456L, 10L, 200L, 1L)"
      ]
     },
     "execution_count": 9,
     "metadata": {},
     "output_type": "execute_result"
    }
   ],
   "source": [
    "X_test.shape"
   ]
  },
  {
   "cell_type": "code",
   "execution_count": 10,
   "metadata": {
    "collapsed": false
   },
   "outputs": [
    {
     "data": {
      "text/plain": [
       "(45823L, 10L, 200L, 1L)"
      ]
     },
     "execution_count": 10,
     "metadata": {},
     "output_type": "execute_result"
    }
   ],
   "source": [
    "X_train.shape"
   ]
  },
  {
   "cell_type": "code",
   "execution_count": 11,
   "metadata": {
    "collapsed": true
   },
   "outputs": [],
   "source": [
    "#### dummyfying output which is is no"
   ]
  },
  {
   "cell_type": "code",
   "execution_count": 12,
   "metadata": {
    "collapsed": true
   },
   "outputs": [],
   "source": [
    "Y_train = np_utils.to_categorical(y_train)\n",
    "Y_test = np_utils.to_categorical(y_test)"
   ]
  },
  {
   "cell_type": "code",
   "execution_count": 13,
   "metadata": {
    "collapsed": false
   },
   "outputs": [
    {
     "data": {
      "text/plain": [
       "(11456L, 6L)"
      ]
     },
     "execution_count": 13,
     "metadata": {},
     "output_type": "execute_result"
    }
   ],
   "source": [
    "Y_test.shape"
   ]
  },
  {
   "cell_type": "code",
   "execution_count": null,
   "metadata": {
    "collapsed": true
   },
   "outputs": [],
   "source": []
  },
  {
   "cell_type": "markdown",
   "metadata": {
    "collapsed": true
   },
   "source": [
    "### splitting data into train, test and validation"
   ]
  },
  {
   "cell_type": "code",
   "execution_count": 85,
   "metadata": {
    "collapsed": false
   },
   "outputs": [],
   "source": [
    "# from sklearn.cross_validation import train_test_split\n",
    "\n",
    "# train, test, y_train, y_test = train_test_split(indices,df1.Updated_category, test_size=0.4, random_state=42)"
   ]
  },
  {
   "cell_type": "code",
   "execution_count": 106,
   "metadata": {
    "collapsed": false
   },
   "outputs": [
    {
     "data": {
      "text/plain": [
       "array([46782, 16190, 49489, ...,   860, 15795, 56422])"
      ]
     },
     "execution_count": 106,
     "metadata": {},
     "output_type": "execute_result"
    }
   ],
   "source": [
    "#train"
   ]
  },
  {
   "cell_type": "code",
   "execution_count": 87,
   "metadata": {
    "collapsed": false
   },
   "outputs": [
    {
     "data": {
      "text/plain": [
       "(22912L,)"
      ]
     },
     "execution_count": 87,
     "metadata": {},
     "output_type": "execute_result"
    }
   ],
   "source": [
    "#y_test.shape"
   ]
  },
  {
   "cell_type": "code",
   "execution_count": 88,
   "metadata": {
    "collapsed": true
   },
   "outputs": [],
   "source": [
    "#test_data, validation, y_test_data, y_validation = train_test_split(test,y_test, test_size=0.5, random_state=42)"
   ]
  },
  {
   "cell_type": "code",
   "execution_count": 105,
   "metadata": {
    "collapsed": false
   },
   "outputs": [
    {
     "data": {
      "text/plain": [
       "array([54780, 47812, 28652, ..., 15486, 50788, 14144])"
      ]
     },
     "execution_count": 105,
     "metadata": {},
     "output_type": "execute_result"
    }
   ],
   "source": [
    "#test_data\n"
   ]
  },
  {
   "cell_type": "code",
   "execution_count": 90,
   "metadata": {
    "collapsed": false
   },
   "outputs": [
    {
     "data": {
      "text/plain": [
       "(11456L,)"
      ]
     },
     "execution_count": 90,
     "metadata": {},
     "output_type": "execute_result"
    }
   ],
   "source": [
    "#validation.shape"
   ]
  },
  {
   "cell_type": "code",
   "execution_count": 119,
   "metadata": {
    "collapsed": false
   },
   "outputs": [],
   "source": [
    "# x_train = t[:,:,train]\n",
    "# x_test = t[:,:,test_data]\n",
    "# x_validation = t[:,:,validation]"
   ]
  },
  {
   "cell_type": "code",
   "execution_count": 121,
   "metadata": {
    "collapsed": false
   },
   "outputs": [
    {
     "name": "stdout",
     "output_type": "stream",
     "text": [
      "(200L, 10L, 34367L)\n",
      "(200L, 10L, 11456L)\n",
      "(200L, 10L, 11456L)\n"
     ]
    }
   ],
   "source": [
    "# print x_train.shape\n",
    "# print x_test.shape\n",
    "# print x_validation.shape"
   ]
  },
  {
   "cell_type": "code",
   "execution_count": 118,
   "metadata": {
    "collapsed": false
   },
   "outputs": [
    {
     "name": "stdout",
     "output_type": "stream",
     "text": [
      "(34367L,)\n",
      "(11456L,)\n",
      "(11456L,)\n"
     ]
    }
   ],
   "source": [
    "# print y_train.shape\n",
    "# print y_test_data.shape\n",
    "# print y_validation.shape"
   ]
  },
  {
   "cell_type": "markdown",
   "metadata": {
    "collapsed": true
   },
   "source": [
    "#### reshaping"
   ]
  },
  {
   "cell_type": "code",
   "execution_count": 123,
   "metadata": {
    "collapsed": false
   },
   "outputs": [],
   "source": [
    "# X_train = x_train.reshape(x_train.shape[2], 10, 200,1)\n",
    "# X_test = x_test.reshape(x_test.shape[2], 10, 200, 1)\n",
    "# X_validation = x_validation.reshape(x_validation.shape[2], 10, 200, 1)"
   ]
  },
  {
   "cell_type": "code",
   "execution_count": 124,
   "metadata": {
    "collapsed": false
   },
   "outputs": [
    {
     "name": "stdout",
     "output_type": "stream",
     "text": [
      "(34367L, 10L, 200L, 1L)\n",
      "(11456L, 10L, 200L, 1L)\n",
      "(11456L, 10L, 200L, 1L)\n"
     ]
    }
   ],
   "source": [
    "# print X_train.shape\n",
    "# print X_test.shape\n",
    "# print X_validation.shape"
   ]
  },
  {
   "cell_type": "code",
   "execution_count": null,
   "metadata": {
    "collapsed": true
   },
   "outputs": [],
   "source": []
  },
  {
   "cell_type": "code",
   "execution_count": 127,
   "metadata": {
    "collapsed": false
   },
   "outputs": [],
   "source": [
    "# import numpy as np\n",
    "# # one hot encode outputs\n",
    "# Y_train = np_utils.to_categorical(y_train)\n",
    "# Y_test = np_utils.to_categorical(y_test)\n",
    "# Y_validation = np_utils.to_categorical(y_validation)\n",
    "# num_classes = Y_test.shape[1]"
   ]
  },
  {
   "cell_type": "code",
   "execution_count": 128,
   "metadata": {
    "collapsed": false
   },
   "outputs": [
    {
     "data": {
      "text/plain": [
       "7L"
      ]
     },
     "execution_count": 128,
     "metadata": {},
     "output_type": "execute_result"
    }
   ],
   "source": [
    "#num_classes"
   ]
  },
  {
   "cell_type": "code",
   "execution_count": 129,
   "metadata": {
    "collapsed": false
   },
   "outputs": [
    {
     "data": {
      "text/plain": [
       "(34367L, 7L)"
      ]
     },
     "execution_count": 129,
     "metadata": {},
     "output_type": "execute_result"
    }
   ],
   "source": [
    "#Y_train.shape"
   ]
  },
  {
   "cell_type": "code",
   "execution_count": 130,
   "metadata": {
    "collapsed": false
   },
   "outputs": [
    {
     "data": {
      "text/plain": [
       "(22912L, 7L)"
      ]
     },
     "execution_count": 130,
     "metadata": {},
     "output_type": "execute_result"
    }
   ],
   "source": [
    "#Y_test.shape"
   ]
  },
  {
   "cell_type": "code",
   "execution_count": null,
   "metadata": {
    "collapsed": true
   },
   "outputs": [],
   "source": []
  },
  {
   "cell_type": "code",
   "execution_count": null,
   "metadata": {
    "collapsed": true
   },
   "outputs": [],
   "source": []
  },
  {
   "cell_type": "markdown",
   "metadata": {
    "collapsed": true
   },
   "source": [
    "# CNN Architecture modelling"
   ]
  },
  {
   "cell_type": "markdown",
   "metadata": {
    "collapsed": true
   },
   "source": [
    "## Attempt1"
   ]
  },
  {
   "cell_type": "markdown",
   "metadata": {},
   "source": [
    "#### Define model architecture"
   ]
  },
  {
   "cell_type": "code",
   "execution_count": 14,
   "metadata": {
    "collapsed": true
   },
   "outputs": [],
   "source": [
    "model = Sequential()\n",
    " \n",
    "model.add(Convolution2D(3, (10, 50), activation='relu', input_shape=(10,200,1)))\n",
    "\n",
    "model.add(MaxPooling2D(pool_size=(1,5)))\n",
    "model.add(Dropout(0.05))\n",
    " \n",
    "model.add(Flatten())\n",
    "model.add(Dense(40, activation='relu'))\n",
    "model.add(Dropout(0.10))\n",
    "model.add(Dense(6, activation='softmax'))"
   ]
  },
  {
   "cell_type": "code",
   "execution_count": 15,
   "metadata": {
    "collapsed": false
   },
   "outputs": [
    {
     "name": "stdout",
     "output_type": "stream",
     "text": [
      "_________________________________________________________________\n",
      "Layer (type)                 Output Shape              Param #   \n",
      "=================================================================\n",
      "conv2d_1 (Conv2D)            (None, 1, 151, 3)         1503      \n",
      "_________________________________________________________________\n",
      "max_pooling2d_1 (MaxPooling2 (None, 1, 30, 3)          0         \n",
      "_________________________________________________________________\n",
      "dropout_1 (Dropout)          (None, 1, 30, 3)          0         \n",
      "_________________________________________________________________\n",
      "flatten_1 (Flatten)          (None, 90)                0         \n",
      "_________________________________________________________________\n",
      "dense_1 (Dense)              (None, 40)                3640      \n",
      "_________________________________________________________________\n",
      "dropout_2 (Dropout)          (None, 40)                0         \n",
      "_________________________________________________________________\n",
      "dense_2 (Dense)              (None, 6)                 246       \n",
      "=================================================================\n",
      "Total params: 5,389\n",
      "Trainable params: 5,389\n",
      "Non-trainable params: 0\n",
      "_________________________________________________________________\n"
     ]
    }
   ],
   "source": [
    "model.summary()"
   ]
  },
  {
   "cell_type": "code",
   "execution_count": 16,
   "metadata": {
    "collapsed": true
   },
   "outputs": [],
   "source": [
    "model.compile(loss='categorical_crossentropy',\n",
    "              optimizer='adam',\n",
    "              metrics=['accuracy'])"
   ]
  },
  {
   "cell_type": "markdown",
   "metadata": {},
   "source": [
    "#### Fit model on training data"
   ]
  },
  {
   "cell_type": "code",
   "execution_count": 17,
   "metadata": {
    "collapsed": false
   },
   "outputs": [
    {
     "name": "stderr",
     "output_type": "stream",
     "text": [
      "C:\\Users\\pranj\\Anaconda2\\lib\\site-packages\\keras-2.0.4-py2.7.egg\\keras\\models.py:846: UserWarning: The `nb_epoch` argument in `fit` has been renamed `epochs`.\n",
      "  warnings.warn('The `nb_epoch` argument in `fit` '\n"
     ]
    },
    {
     "name": "stdout",
     "output_type": "stream",
     "text": [
      "Train on 41240 samples, validate on 4583 samples\n",
      "Epoch 1/15\n",
      "41240/41240 [==============================] - 31s - loss: 1.5598 - acc: 0.2546 - val_loss: 1.5499 - val_acc: 0.2509\n",
      "Epoch 2/15\n",
      "41240/41240 [==============================] - 32s - loss: 1.5499 - acc: 0.2571 - val_loss: 1.5486 - val_acc: 0.2590\n",
      "Epoch 3/15\n",
      "41240/41240 [==============================] - 31s - loss: 1.5467 - acc: 0.2623 - val_loss: 1.5503 - val_acc: 0.2588\n",
      "Epoch 4/15\n",
      "41240/41240 [==============================] - 29s - loss: 1.5418 - acc: 0.2695 - val_loss: 1.5542 - val_acc: 0.2618\n",
      "Epoch 5/15\n",
      "41240/41240 [==============================] - 30s - loss: 1.5367 - acc: 0.2758 - val_loss: 1.5555 - val_acc: 0.2522\n",
      "Epoch 6/15\n",
      "41240/41240 [==============================] - 29s - loss: 1.5301 - acc: 0.2838 - val_loss: 1.5597 - val_acc: 0.2415\n",
      "Epoch 7/15\n",
      "41240/41240 [==============================] - 30s - loss: 1.5235 - acc: 0.2922 - val_loss: 1.5606 - val_acc: 0.2522\n",
      "Epoch 8/15\n",
      "41240/41240 [==============================] - 33s - loss: 1.5172 - acc: 0.2977 - val_loss: 1.5635 - val_acc: 0.2459\n",
      "Epoch 9/15\n",
      "41240/41240 [==============================] - 39s - loss: 1.5094 - acc: 0.3048 - val_loss: 1.5662 - val_acc: 0.2453\n",
      "Epoch 10/15\n",
      "41240/41240 [==============================] - 39s - loss: 1.4995 - acc: 0.3125 - val_loss: 1.5702 - val_acc: 0.2463\n",
      "Epoch 11/15\n",
      "41240/41240 [==============================] - 37s - loss: 1.4899 - acc: 0.3205 - val_loss: 1.5752 - val_acc: 0.2391\n",
      "Epoch 12/15\n",
      "41240/41240 [==============================] - 40s - loss: 1.4805 - acc: 0.3273 - val_loss: 1.5815 - val_acc: 0.2457\n",
      "Epoch 13/15\n",
      "41240/41240 [==============================] - 42s - loss: 1.4693 - acc: 0.3339 - val_loss: 1.5861 - val_acc: 0.2433\n",
      "Epoch 14/15\n",
      "41240/41240 [==============================] - 40s - loss: 1.4597 - acc: 0.3460 - val_loss: 1.5893 - val_acc: 0.2387\n",
      "Epoch 15/15\n",
      "41240/41240 [==============================] - 37s - loss: 1.4471 - acc: 0.3558 - val_loss: 1.5921 - val_acc: 0.2496\n"
     ]
    },
    {
     "data": {
      "text/plain": [
       "<keras.callbacks.History at 0x1bbaef60>"
      ]
     },
     "execution_count": 17,
     "metadata": {},
     "output_type": "execute_result"
    }
   ],
   "source": [
    "\n",
    "model.fit(X_train, Y_train, \n",
    "          batch_size=200, nb_epoch=15, verbose=1, validation_split=0.1)"
   ]
  },
  {
   "cell_type": "code",
   "execution_count": null,
   "metadata": {
    "collapsed": true
   },
   "outputs": [],
   "source": []
  },
  {
   "cell_type": "markdown",
   "metadata": {},
   "source": [
    "#### Saving architure"
   ]
  },
  {
   "cell_type": "code",
   "execution_count": 19,
   "metadata": {
    "collapsed": true
   },
   "outputs": [],
   "source": [
    "from keras.models import load_model\n",
    "\n",
    "# creates a HDF5 file 'my_model.h5'\n",
    "model.save('my_model.h5')  "
   ]
  },
  {
   "cell_type": "code",
   "execution_count": 20,
   "metadata": {
    "collapsed": true
   },
   "outputs": [],
   "source": [
    "# for saving only wts\n",
    "model.save_weights('my_model_weights.h5')\n",
    "#model.load_weights('my_model_weights.h5')"
   ]
  },
  {
   "cell_type": "markdown",
   "metadata": {
    "collapsed": true
   },
   "source": [
    "#### Evaluate model on test data"
   ]
  },
  {
   "cell_type": "code",
   "execution_count": 21,
   "metadata": {
    "collapsed": false
   },
   "outputs": [
    {
     "name": "stdout",
     "output_type": "stream",
     "text": [
      "11424/11456 [============================>.] - ETA: 0s"
     ]
    }
   ],
   "source": [
    "score = model.evaluate(X_test, Y_test, verbose=1)"
   ]
  },
  {
   "cell_type": "code",
   "execution_count": 22,
   "metadata": {
    "collapsed": false
   },
   "outputs": [
    {
     "data": {
      "text/plain": [
       "[1.6158423130738668, 0.24607192737430167]"
      ]
     },
     "execution_count": 22,
     "metadata": {},
     "output_type": "execute_result"
    }
   ],
   "source": [
    "score"
   ]
  },
  {
   "cell_type": "code",
   "execution_count": 23,
   "metadata": {
    "collapsed": false
   },
   "outputs": [
    {
     "name": "stdout",
     "output_type": "stream",
     "text": [
      "11456/11456 [==============================] - 78s    \n"
     ]
    }
   ],
   "source": [
    "predictions = model.predict_classes(X_test)"
   ]
  },
  {
   "cell_type": "code",
   "execution_count": null,
   "metadata": {
    "collapsed": true
   },
   "outputs": [],
   "source": []
  },
  {
   "cell_type": "code",
   "execution_count": null,
   "metadata": {
    "collapsed": true
   },
   "outputs": [],
   "source": []
  },
  {
   "cell_type": "markdown",
   "metadata": {
    "collapsed": true
   },
   "source": [
    "## Attempt 2"
   ]
  },
  {
   "cell_type": "code",
   "execution_count": 12,
   "metadata": {
    "collapsed": true
   },
   "outputs": [],
   "source": [
    "model = Sequential()\n",
    " \n",
    "model.add(Convolution2D(32, (1, 5), activation='relu', input_shape=(10,200,1)))\n",
    "#model.add(Convolution2D(32, (1, 5), activation='relu'))\n",
    "model.add(MaxPooling2D(pool_size=(2,2)))\n",
    "model.add(Dropout(0.15))\n",
    " \n",
    "model.add(Flatten())\n",
    "model.add(Dense(250, activation='relu'))\n",
    "model.add(Dropout(0.15))\n",
    "model.add(Dense(6, activation='softmax'))"
   ]
  },
  {
   "cell_type": "code",
   "execution_count": 14,
   "metadata": {
    "collapsed": false
   },
   "outputs": [
    {
     "name": "stdout",
     "output_type": "stream",
     "text": [
      "_________________________________________________________________\n",
      "Layer (type)                 Output Shape              Param #   \n",
      "=================================================================\n",
      "conv2d_1 (Conv2D)            (None, 10, 196, 32)       192       \n",
      "_________________________________________________________________\n",
      "max_pooling2d_1 (MaxPooling2 (None, 5, 98, 32)         0         \n",
      "_________________________________________________________________\n",
      "dropout_1 (Dropout)          (None, 5, 98, 32)         0         \n",
      "_________________________________________________________________\n",
      "flatten_1 (Flatten)          (None, 15680)             0         \n",
      "_________________________________________________________________\n",
      "dense_1 (Dense)              (None, 250)               3920250   \n",
      "_________________________________________________________________\n",
      "dropout_2 (Dropout)          (None, 250)               0         \n",
      "_________________________________________________________________\n",
      "dense_2 (Dense)              (None, 6)                 1506      \n",
      "=================================================================\n",
      "Total params: 3,921,948\n",
      "Trainable params: 3,921,948\n",
      "Non-trainable params: 0\n",
      "_________________________________________________________________\n"
     ]
    }
   ],
   "source": [
    "model.summary()"
   ]
  },
  {
   "cell_type": "code",
   "execution_count": 15,
   "metadata": {
    "collapsed": true
   },
   "outputs": [],
   "source": [
    "model.compile(loss='categorical_crossentropy',\n",
    "              optimizer='adam',\n",
    "              metrics=['accuracy'])"
   ]
  },
  {
   "cell_type": "code",
   "execution_count": 16,
   "metadata": {
    "collapsed": false,
    "scrolled": true
   },
   "outputs": [
    {
     "name": "stderr",
     "output_type": "stream",
     "text": [
      "C:\\Users\\pranj\\Anaconda2\\lib\\site-packages\\keras-2.0.4-py2.7.egg\\keras\\models.py:846: UserWarning: The `nb_epoch` argument in `fit` has been renamed `epochs`.\n",
      "  warnings.warn('The `nb_epoch` argument in `fit` '\n"
     ]
    },
    {
     "name": "stdout",
     "output_type": "stream",
     "text": [
      "Train on 41240 samples, validate on 4583 samples\n",
      "Epoch 1/15\n",
      "41240/41240 [==============================] - 185s - loss: 1.5711 - acc: 0.2467 - val_loss: 1.5495 - val_acc: 0.2542\n",
      "Epoch 2/15\n",
      "41240/41240 [==============================] - 172s - loss: 1.5402 - acc: 0.2725 - val_loss: 1.5537 - val_acc: 0.2590\n",
      "Epoch 3/15\n",
      "41240/41240 [==============================] - 179s - loss: 1.5230 - acc: 0.2941 - val_loss: 1.5545 - val_acc: 0.2490\n",
      "Epoch 4/15\n",
      "41240/41240 [==============================] - 194s - loss: 1.4795 - acc: 0.3301 - val_loss: 1.5695 - val_acc: 0.2394\n",
      "Epoch 5/15\n",
      "41240/41240 [==============================] - 187s - loss: 1.3599 - acc: 0.4090 - val_loss: 1.6257 - val_acc: 0.2415\n",
      "Epoch 6/15\n",
      "41240/41240 [==============================] - 187s - loss: 1.1610 - acc: 0.5161 - val_loss: 1.7260 - val_acc: 0.2418\n",
      "Epoch 7/15\n",
      "41240/41240 [==============================] - 187s - loss: 0.9592 - acc: 0.6079 - val_loss: 1.9100 - val_acc: 0.2391\n",
      "Epoch 8/15\n",
      "41240/41240 [==============================] - 192s - loss: 0.8148 - acc: 0.6720 - val_loss: 2.0528 - val_acc: 0.2335\n",
      "Epoch 9/15\n",
      "41240/41240 [==============================] - 189s - loss: 0.7057 - acc: 0.7195 - val_loss: 2.3120 - val_acc: 0.2295\n",
      "Epoch 10/15\n",
      "41240/41240 [==============================] - 189s - loss: 0.6335 - acc: 0.7527 - val_loss: 2.5165 - val_acc: 0.2254\n",
      "Epoch 11/15\n",
      "41240/41240 [==============================] - 189s - loss: 0.5817 - acc: 0.7757 - val_loss: 2.6628 - val_acc: 0.2232\n",
      "Epoch 12/15\n",
      "41240/41240 [==============================] - 189s - loss: 0.5337 - acc: 0.7984 - val_loss: 2.9303 - val_acc: 0.2247\n",
      "Epoch 13/15\n",
      "41240/41240 [==============================] - 194s - loss: 0.5047 - acc: 0.8123 - val_loss: 3.0990 - val_acc: 0.2263\n",
      "Epoch 14/15\n",
      "41240/41240 [==============================] - 189s - loss: 0.4696 - acc: 0.8272 - val_loss: 3.3104 - val_acc: 0.2237\n",
      "Epoch 15/15\n",
      "41240/41240 [==============================] - 190s - loss: 0.4481 - acc: 0.8376 - val_loss: 3.4300 - val_acc: 0.2258\n"
     ]
    },
    {
     "data": {
      "text/plain": [
       "<keras.callbacks.History at 0x778510b8>"
      ]
     },
     "execution_count": 16,
     "metadata": {},
     "output_type": "execute_result"
    }
   ],
   "source": [
    "# 9. Fit model on training data\n",
    "model.fit(X_train, Y_train, \n",
    "          batch_size=200, nb_epoch=15, verbose=1, validation_split=0.1)"
   ]
  },
  {
   "cell_type": "code",
   "execution_count": 17,
   "metadata": {
    "collapsed": true
   },
   "outputs": [],
   "source": [
    "# creates a HDF5 file\n",
    "model.save('my_model2.h5')  "
   ]
  },
  {
   "cell_type": "markdown",
   "metadata": {
    "collapsed": true
   },
   "source": [
    "#### import the saved model for further analyses"
   ]
  },
  {
   "cell_type": "code",
   "execution_count": null,
   "metadata": {
    "collapsed": true
   },
   "outputs": [],
   "source": [
    "#from keras.models import load_model\n",
    "#model = load_model('my_model2.h5')"
   ]
  },
  {
   "cell_type": "code",
   "execution_count": null,
   "metadata": {
    "collapsed": true
   },
   "outputs": [],
   "source": []
  },
  {
   "cell_type": "markdown",
   "metadata": {
    "collapsed": true
   },
   "source": [
    "## Attempt 3"
   ]
  },
  {
   "cell_type": "code",
   "execution_count": 17,
   "metadata": {
    "collapsed": false
   },
   "outputs": [],
   "source": [
    "model = Sequential()\n",
    " \n",
    "model.add(Convolution2D(3, (10, 10), activation='relu', input_shape=(10,200,1)))\n",
    "\n",
    "#model.add(MaxPooling2D(pool_size=(1,5)))\n",
    "#model.add(Dropout(0.25))\n",
    " \n",
    "model.add(Flatten())\n",
    "model.add(Dense(80, activation='relu'))\n",
    "#model.add(Dropout(0.20))\n",
    "model.add(Dense(6, activation='softmax'))"
   ]
  },
  {
   "cell_type": "code",
   "execution_count": 18,
   "metadata": {
    "collapsed": false,
    "scrolled": true
   },
   "outputs": [
    {
     "name": "stdout",
     "output_type": "stream",
     "text": [
      "_________________________________________________________________\n",
      "Layer (type)                 Output Shape              Param #   \n",
      "=================================================================\n",
      "conv2d_2 (Conv2D)            (None, 1, 191, 3)         303       \n",
      "_________________________________________________________________\n",
      "flatten_2 (Flatten)          (None, 573)               0         \n",
      "_________________________________________________________________\n",
      "dense_3 (Dense)              (None, 80)                45920     \n",
      "_________________________________________________________________\n",
      "dense_4 (Dense)              (None, 6)                 486       \n",
      "=================================================================\n",
      "Total params: 46,709\n",
      "Trainable params: 46,709\n",
      "Non-trainable params: 0\n",
      "_________________________________________________________________\n"
     ]
    }
   ],
   "source": [
    "model.summary()"
   ]
  },
  {
   "cell_type": "code",
   "execution_count": 19,
   "metadata": {
    "collapsed": true
   },
   "outputs": [],
   "source": [
    "model.compile(loss='categorical_crossentropy',\n",
    "              optimizer='adam',\n",
    "              metrics=['accuracy'])"
   ]
  },
  {
   "cell_type": "code",
   "execution_count": 20,
   "metadata": {
    "collapsed": false
   },
   "outputs": [
    {
     "name": "stderr",
     "output_type": "stream",
     "text": [
      "C:\\Users\\pranj\\Anaconda2\\lib\\site-packages\\keras-2.0.4-py2.7.egg\\keras\\models.py:846: UserWarning: The `nb_epoch` argument in `fit` has been renamed `epochs`.\n",
      "  warnings.warn('The `nb_epoch` argument in `fit` '\n"
     ]
    },
    {
     "name": "stdout",
     "output_type": "stream",
     "text": [
      "Train on 41240 samples, validate on 4583 samples\n",
      "Epoch 1/15\n",
      "41240/41240 [==============================] - 10s - loss: 1.5626 - acc: 0.2551 - val_loss: 1.5500 - val_acc: 0.2614\n",
      "Epoch 2/15\n",
      "41240/41240 [==============================] - 8s - loss: 1.5454 - acc: 0.2667 - val_loss: 1.5512 - val_acc: 0.2573\n",
      "Epoch 3/15\n",
      "41240/41240 [==============================] - 8s - loss: 1.5384 - acc: 0.2758 - val_loss: 1.5526 - val_acc: 0.2562\n",
      "Epoch 4/15\n",
      "41240/41240 [==============================] - 8s - loss: 1.5308 - acc: 0.2870 - val_loss: 1.5560 - val_acc: 0.2590\n",
      "Epoch 5/15\n",
      "41240/41240 [==============================] - 8s - loss: 1.5208 - acc: 0.2977 - val_loss: 1.5566 - val_acc: 0.2527\n",
      "Epoch 6/15\n",
      "41240/41240 [==============================] - 8s - loss: 1.5051 - acc: 0.3116 - val_loss: 1.5601 - val_acc: 0.2551\n",
      "Epoch 7/15\n",
      "41240/41240 [==============================] - 8s - loss: 1.4818 - acc: 0.3320 - val_loss: 1.5647 - val_acc: 0.2496\n",
      "Epoch 8/15\n",
      "41240/41240 [==============================] - 8s - loss: 1.4480 - acc: 0.3556 - val_loss: 1.5750 - val_acc: 0.2444\n",
      "Epoch 9/15\n",
      "41240/41240 [==============================] - 8s - loss: 1.4073 - acc: 0.3843 - val_loss: 1.5865 - val_acc: 0.2418\n",
      "Epoch 10/15\n",
      "41240/41240 [==============================] - 8s - loss: 1.3626 - acc: 0.4121 - val_loss: 1.6050 - val_acc: 0.2363\n",
      "Epoch 11/15\n",
      "41240/41240 [==============================] - 10s - loss: 1.3182 - acc: 0.4361 - val_loss: 1.6198 - val_acc: 0.2394\n",
      "Epoch 12/15\n",
      "41240/41240 [==============================] - 11s - loss: 1.2750 - acc: 0.4595 - val_loss: 1.6368 - val_acc: 0.2439\n",
      "Epoch 13/15\n",
      "41240/41240 [==============================] - 8s - loss: 1.2357 - acc: 0.4815 - val_loss: 1.6558 - val_acc: 0.2411\n",
      "Epoch 14/15\n",
      "41240/41240 [==============================] - 8s - loss: 1.1961 - acc: 0.4998 - val_loss: 1.6789 - val_acc: 0.2450\n",
      "Epoch 15/15\n",
      "41240/41240 [==============================] - 8s - loss: 1.1594 - acc: 0.5170 - val_loss: 1.7109 - val_acc: 0.2409\n"
     ]
    },
    {
     "data": {
      "text/plain": [
       "<keras.callbacks.History at 0x1b7fbdd8>"
      ]
     },
     "execution_count": 20,
     "metadata": {},
     "output_type": "execute_result"
    }
   ],
   "source": [
    "#Fit model on training data\n",
    "model.fit(X_train, Y_train, \n",
    "          batch_size=100, nb_epoch=15, verbose=1, validation_split=0.1)"
   ]
  },
  {
   "cell_type": "code",
   "execution_count": null,
   "metadata": {
    "collapsed": true
   },
   "outputs": [],
   "source": []
  }
 ],
 "metadata": {
  "anaconda-cloud": {},
  "kernelspec": {
   "display_name": "Python [default]",
   "language": "python",
   "name": "python2"
  },
  "language_info": {
   "codemirror_mode": {
    "name": "ipython",
    "version": 2
   },
   "file_extension": ".py",
   "mimetype": "text/x-python",
   "name": "python",
   "nbconvert_exporter": "python",
   "pygments_lexer": "ipython2",
   "version": "2.7.12"
  }
 },
 "nbformat": 4,
 "nbformat_minor": 1
}
