{
 "cells": [
  {
   "cell_type": "markdown",
   "metadata": {},
   "source": [
    "# Cleaning Data and saving a new csv\n",
    "\n",
    "## Agenda\n",
    "\n",
    "### 1. Removing unwanted tags and words using Regex\n",
    "### 2. Removing typos in the complete dataset\n",
    "### 3. Saving it to new file"
   ]
  },
  {
   "cell_type": "code",
   "execution_count": 1,
   "metadata": {
    "collapsed": true
   },
   "outputs": [],
   "source": [
    "import os \n",
    "import re \n",
    "import nltk \n",
    "import random \n",
    "import numpy as np"
   ]
  },
  {
   "cell_type": "code",
   "execution_count": 2,
   "metadata": {
    "collapsed": true
   },
   "outputs": [],
   "source": [
    "os.chdir(\"C:\\Users\\pranj\\Desktop\\project\\dataset\")"
   ]
  },
  {
   "cell_type": "code",
   "execution_count": 3,
   "metadata": {
    "collapsed": true
   },
   "outputs": [],
   "source": [
    "import pandas as pd\n",
    "df = pd.read_csv(\"TextClassification_Data.csv\")"
   ]
  },
  {
   "cell_type": "markdown",
   "metadata": {},
   "source": [
    "### Part 1(a) - cleaning data from 'Data' column"
   ]
  },
  {
   "cell_type": "markdown",
   "metadata": {},
   "source": [
    "#### Logic to remove rtf tags - any string starting with '/' and ending with space, min of which is replaced by space.\n"
   ]
  },
  {
   "cell_type": "code",
   "execution_count": 4,
   "metadata": {
    "collapsed": true
   },
   "outputs": [],
   "source": [
    "# regular expression to clean the data\n",
    "\n",
    "nrow = len(df.DATA)\n",
    "CleanedData = [] \n",
    "for i in range(0,nrow):\n",
    "    string = df.DATA[i]\n",
    "    result1 = re.sub('(\\\\\\.*?\\s)', ' ', string)\n",
    "    result2 = re.sub('Arial', '', result1)\n",
    "    result3 = re.sub('Default Paragraph Font', '', result2)\n",
    "    result4 = re.sub('Normal', '', result3)\n",
    "    result5 = re.sub('xxxx-xxxx', '', result4)\n",
    "    result6 = re.sub('(\\\\\\\\par)?(\\\\\\\\plain)?(\\\\\\\\fs20)?(\\\\\\\\par)?(\\\\\\\\cf3)?(\\\\\\\\sscharaux00)?(\\\\\\\\par)(\\\\\\\\plain)?(\\\\\\\\fs20)?(\\\\\\\\par)?', '', result5)\n",
    "    result7 = re.sub('}', '', result6)\n",
    "    result8 = re.sub(';', '', result7)\n",
    "    result9 = re.sub('{', '', result8)\n",
    "    result10 = re.sub('(RxID:\\d*)?', '', result9)\n",
    "    result11 = re.sub('(Phone Note)?(Call patient back at:)?','', result10)\n",
    "    result12 = re.sub('\\d*', '', result11)\n",
    "    result13 = re.sub('(AM|PM)', '', result12)\n",
    "    result14 = re.sub('appt|Appt', ' appointment ', result13)\n",
    "    result15 = re.sub('fin|Fin', ' finance ', result14)\n",
    "    result16 = re.sub('dept|Dept', ' department ', result15)\n",
    "    result17 = re.sub('pt|Pt', ' patient ', result16)\n",
    "    result18 = re.sub('Advd|advd', ' Advised ', result17)\n",
    "    CleanedData.append(result18)"
   ]
  },
  {
   "cell_type": "markdown",
   "metadata": {},
   "source": [
    "#### Sample Data before cleaning"
   ]
  },
  {
   "cell_type": "code",
   "execution_count": 5,
   "metadata": {
    "collapsed": false,
    "scrolled": true
   },
   "outputs": [
    {
     "data": {
      "text/plain": [
       "'{\\\\rtf1\\\\ansi\\\\ftnbj{\\\\fonttbl{\\\\f0 \\\\fswiss Arial;}}{\\\\colortbl ;\\\\red255\\\\green255\\\\blue255 ;\\\\red0\\\\green0\\\\blue255 ;\\\\red0\\\\green0\\\\blue0 ;\\\\red0\\\\green0\\\\blue255 ;\\\\red0\\\\green128\\\\blue0 ;}{\\\\stylesheet{\\\\f0\\\\fs20\\\\cf3\\\\cb1 Normal;}{\\\\cs1\\\\additive\\\\cf3\\\\cb1 Default Paragraph Font;}}\\\\margl1440\\\\margr1440\\\\margt540\\\\margb1440\\\\headery540\\\\footery720\\\\formshade\\\\sectd\\\\marglsxn1440\\\\margrsxn1440\\\\margtsxn540\\\\margbsxn1440\\\\headery540\\\\footery720\\\\sbkpage\\\\pgncont\\\\plain\\\\plain\\\\fs20\\\\pard\\\\plain\\\\fs20\\\\cf0\\\\fs24\\\\sscharaux1\\\\b Phone Note \\\\fs20\\\\b0\\\\par\\\\b\\\\par Call patient back at:\\\\par\\\\b0 Cell Phonexxxx-xxxx\\\\par\\\\fs24\\\\b\\\\par CALL FROM PATIENT\\\\par\\\\fs20 Caller Name: \\\\b0xxxx-xxxx Caller: \\\\b0 Patient\\\\par\\\\b Call For: \\\\b0 Nurse\\\\par\\\\par\\\\fs24\\\\b Other \\\\fs20\\\\b0\\\\par Patient is returning nurse call. He is unable to make appt without talking to fin service dept. However he needs medication and worried that he will have issue without medication. Please call patient to discuss. \\\\par\\\\b Call Taken by: \\\\b0 xxxx-xxxx  May 26, 2015 5:09 PM\\\\par\\\\par\\\\fs24\\\\b Call back\\\\fs20\\\\b0\\\\par\\\\b Follow-up Details: \\\\b0 Pt returned phone call. Please call back to advise @xxxx-xxxx  May 27, 2015 8:46 AM\\\\par\\\\b Additional Follow-up Details: \\\\b0 What is the problem?  Is he without insurance?  He has been non-compliant with instructions to come in for a follow-up appt. and cannot have refills without one.\\\\par\\\\b Additional Follow-up by: \\\\b0 David xxxx-xxxx  May 27, 2015 8:54 AM\\\\par\\\\b Additional Follow-up Details: \\\\b0 RN spoke with pt and relayed the above to him.  he requested to speak with financial services.  RN transferred him to the business office.  RN requested Business office to call once matter has been completed.\\\\par\\\\b Follow-up by: \\\\b0 Hollie Saltis RN ,  May 27, 2015 11:54 AM\\\\par\\\\b Additional Follow-up Details: \\\\b0 Ok.\\\\par\\\\b Additional Follow-up by: \\\\b0 David xxxx-xxxx  May 27, 2015 5:03 PM\\\\par\\\\plain\\\\fs20\\\\par\\\\cf3\\\\par\\\\plain\\\\fs20\\\\par}'"
      ]
     },
     "execution_count": 5,
     "metadata": {},
     "output_type": "execute_result"
    }
   ],
   "source": [
    "df.DATA[0]"
   ]
  },
  {
   "cell_type": "markdown",
   "metadata": {},
   "source": [
    "#### Sample Data after cleaning"
   ]
  },
  {
   "cell_type": "code",
   "execution_count": 6,
   "metadata": {
    "collapsed": false,
    "scrolled": true
   },
   "outputs": [
    {
     "data": {
      "text/plain": [
       "'              Cell Phone CALL FROM PATIENT Caller Name:  Caller:  Patient Call For:  Nurse Other  Patient is returning nurse call. He is unable to make  appointment  without talking to  finance  service  department . However he needs medication and worried that he will have issue without medication. Please call patient to discuss.  Call Taken by:    May ,  :  Call back Follow-up Details:   patient  returned phone call. Please call back to advise @  May ,  :  Additional Follow-up Details:  What is the problem?  Is he without insurance?  He has been non-compliant with instructions to come in for a follow-up  appointment . and cannot have refills without one. Additional Follow-up by:  David   May ,  :  Additional Follow-up Details:  RN spoke with  patient  and relayed the above to him.  he requested to speak with  finance ancial services.  RN transferred him to the business office.  RN requested Business office to call once matter has been completed. Follow-up by:  Hollie Saltis RN ,  May ,  :  Additional Follow-up Details:  Ok. Additional Follow-up by:  David   May ,  : '"
      ]
     },
     "execution_count": 6,
     "metadata": {},
     "output_type": "execute_result"
    }
   ],
   "source": [
    "CleanedData[0]"
   ]
  },
  {
   "cell_type": "code",
   "execution_count": 7,
   "metadata": {
    "collapsed": true
   },
   "outputs": [],
   "source": [
    "df['Cleandata'] = CleanedData"
   ]
  },
  {
   "cell_type": "code",
   "execution_count": null,
   "metadata": {
    "collapsed": true
   },
   "outputs": [],
   "source": []
  },
  {
   "cell_type": "markdown",
   "metadata": {},
   "source": [
    "### Part 1(b) Cleaning data from 'SUMMARY' column "
   ]
  },
  {
   "cell_type": "code",
   "execution_count": 8,
   "metadata": {
    "collapsed": true
   },
   "outputs": [],
   "source": [
    "# Replacing missing values with \"missing\"\n",
    "df['SUMMARY'] = df['SUMMARY'].replace(np.NaN, \"missing\")"
   ]
  },
  {
   "cell_type": "code",
   "execution_count": 9,
   "metadata": {
    "collapsed": false
   },
   "outputs": [
    {
     "data": {
      "text/plain": [
       "'missing'"
      ]
     },
     "execution_count": 9,
     "metadata": {},
     "output_type": "execute_result"
    }
   ],
   "source": [
    "df.SUMMARY[10]"
   ]
  },
  {
   "cell_type": "code",
   "execution_count": 10,
   "metadata": {
    "collapsed": true
   },
   "outputs": [],
   "source": [
    "nrow = len(df.DATA)\n",
    "CleanedData = [] \n",
    "for i in range(0,nrow):   \n",
    "        result = df.SUMMARY[i]\n",
    "        result1 = re.sub('\\d*', '', result)\n",
    "        result2 = re.sub('(AM|PM|am|pm)', '', result1)\n",
    "        result3 = re.sub('(appt|Appt)', ' appointment ', result2)\n",
    "        result4 = re.sub('fin|Fin', ' finance ', result3)\n",
    "        result5 = re.sub('dept|Dept', ' department ', result4)\n",
    "        result6 = re.sub('(pt|Pt|PT)', ' patient ', result5)\n",
    "        result7 = re.sub('Advd|advd', ' Advised ', result6)\n",
    "        result8 = re.sub('Eval|eval', ' evaluation ', result7)\n",
    "        result9 = re.sub('med|Med', ' medical ', result8)\n",
    "        result10 = re.sub('//|/|///', ' ', result9)\n",
    "        result11 = re.sub('@', '', result10)\n",
    "        result12 = unicode(result11, errors='ignore')\n",
    "        CleanedData.append(result12)"
   ]
  },
  {
   "cell_type": "code",
   "execution_count": 11,
   "metadata": {
    "collapsed": false
   },
   "outputs": [
    {
     "name": "stdout",
     "output_type": "stream",
     "text": [
      "Dec Appt\n",
      "Dec  appointment \n"
     ]
    }
   ],
   "source": [
    "i = 33\n",
    "print df.SUMMARY[i]\n",
    "print CleanedData[i]"
   ]
  },
  {
   "cell_type": "code",
   "execution_count": 12,
   "metadata": {
    "collapsed": true
   },
   "outputs": [],
   "source": [
    "df['Summary'] = CleanedData"
   ]
  },
  {
   "cell_type": "code",
   "execution_count": null,
   "metadata": {
    "collapsed": true
   },
   "outputs": [],
   "source": []
  },
  {
   "cell_type": "code",
   "execution_count": null,
   "metadata": {
    "collapsed": true
   },
   "outputs": [],
   "source": []
  },
  {
   "cell_type": "markdown",
   "metadata": {
    "collapsed": true
   },
   "source": [
    "### Part2"
   ]
  },
  {
   "cell_type": "markdown",
   "metadata": {
    "collapsed": true
   },
   "source": [
    "#### typos in Classes"
   ]
  },
  {
   "cell_type": "code",
   "execution_count": 13,
   "metadata": {
    "collapsed": false,
    "scrolled": true
   },
   "outputs": [
    {
     "data": {
      "text/plain": [
       "array(['PRESCRIPTION', 'ASK_A_DOCTOR', 'MISCELLANEOUS', 'APPOINTMENTS',\n",
       "       'LAB', 'JUNK', 'mISCELLANEOUS', 'asK_A_DOCTOR'], dtype=object)"
      ]
     },
     "execution_count": 13,
     "metadata": {},
     "output_type": "execute_result"
    }
   ],
   "source": [
    "df.categories.unique()"
   ]
  },
  {
   "cell_type": "code",
   "execution_count": 14,
   "metadata": {
    "collapsed": false
   },
   "outputs": [
    {
     "data": {
      "text/plain": [
       "array(['No', 'Yes', 'NO', 'yes', nan, 'YES'], dtype=object)"
      ]
     },
     "execution_count": 14,
     "metadata": {},
     "output_type": "execute_result"
    }
   ],
   "source": [
    "df.previous_appointment.unique()"
   ]
  },
  {
   "cell_type": "code",
   "execution_count": 15,
   "metadata": {
    "collapsed": false
   },
   "outputs": [
    {
     "data": {
      "text/plain": [
       "array(['REFILL', 'MEDICATION RELATED', 'OTHERS',\n",
       "       'SHARING OF HEALTH RECORDS (FAX, E-MAIL, ETC.)',\n",
       "       'QUERY ON CURRENT APPOINTMENT', 'SYMPTOMS', 'RESCHEDULING',\n",
       "       'NEW APPOINTMENT', 'PROVIDER',\n",
       "       'SHARING OF LAB RECORDS (FAX, E-MAIL, ETC.)',\n",
       "       'QUERIES FROM PHARMACY', 'PRIOR AUTHORIZATION', 'LAB RESULTS',\n",
       "       'CANCELLATION', 'CHANGE OF PROVIDER', 'RUNNING LATE TO APPOINTMENT',\n",
       "       'QUERIES FROM INSURANCE FIRM', 'CHANGE OF HOSPITAL',\n",
       "       'FOLLOW UP ON PREVIOUS REQUEST', 'CHANGE OF PHARMACY', 'JUNK',\n",
       "       'mEDICATION RELATED'], dtype=object)"
      ]
     },
     "execution_count": 15,
     "metadata": {},
     "output_type": "execute_result"
    }
   ],
   "source": [
    "df.sub_categories.unique()"
   ]
  },
  {
   "cell_type": "markdown",
   "metadata": {
    "collapsed": true
   },
   "source": [
    "#### removing the duplicate headings"
   ]
  },
  {
   "cell_type": "code",
   "execution_count": 16,
   "metadata": {
    "collapsed": false
   },
   "outputs": [
    {
     "name": "stderr",
     "output_type": "stream",
     "text": [
      "C:\\Users\\pranj\\Anaconda2\\lib\\site-packages\\ipykernel\\__main__.py:7: SettingWithCopyWarning: \n",
      "A value is trying to be set on a copy of a slice from a DataFrame\n",
      "\n",
      "See the caveats in the documentation: http://pandas.pydata.org/pandas-docs/stable/indexing.html#indexing-view-versus-copy\n",
      "C:\\Users\\pranj\\Anaconda2\\lib\\site-packages\\ipykernel\\__main__.py:4: SettingWithCopyWarning: \n",
      "A value is trying to be set on a copy of a slice from a DataFrame\n",
      "\n",
      "See the caveats in the documentation: http://pandas.pydata.org/pandas-docs/stable/indexing.html#indexing-view-versus-copy\n"
     ]
    }
   ],
   "source": [
    "for i in range(0,57280):\n",
    "    \n",
    "    if df.categories[i] == 'asK_A_DOCTOR':\n",
    "        df.categories[i] = 'ASK_A_DOCTOR'\n",
    "   \n",
    "    elif df.categories[i] == 'mISCELLANEOUS':\n",
    "        df.categories[i] = 'MISCELLANEOUS'\n",
    "    "
   ]
  },
  {
   "cell_type": "code",
   "execution_count": 17,
   "metadata": {
    "collapsed": false
   },
   "outputs": [
    {
     "name": "stderr",
     "output_type": "stream",
     "text": [
      "C:\\Users\\pranj\\Anaconda2\\lib\\site-packages\\ipykernel\\__main__.py:3: SettingWithCopyWarning: \n",
      "A value is trying to be set on a copy of a slice from a DataFrame\n",
      "\n",
      "See the caveats in the documentation: http://pandas.pydata.org/pandas-docs/stable/indexing.html#indexing-view-versus-copy\n",
      "  app.launch_new_instance()\n",
      "C:\\Users\\pranj\\Anaconda2\\lib\\site-packages\\ipykernel\\__main__.py:5: SettingWithCopyWarning: \n",
      "A value is trying to be set on a copy of a slice from a DataFrame\n",
      "\n",
      "See the caveats in the documentation: http://pandas.pydata.org/pandas-docs/stable/indexing.html#indexing-view-versus-copy\n",
      "C:\\Users\\pranj\\Anaconda2\\lib\\site-packages\\ipykernel\\__main__.py:7: SettingWithCopyWarning: \n",
      "A value is trying to be set on a copy of a slice from a DataFrame\n",
      "\n",
      "See the caveats in the documentation: http://pandas.pydata.org/pandas-docs/stable/indexing.html#indexing-view-versus-copy\n"
     ]
    }
   ],
   "source": [
    "for i in range(0,57280):\n",
    "    if df.previous_appointment[i] == 'NO':\n",
    "        df.previous_appointment[i] = 'No'\n",
    "    elif df.previous_appointment[i] == 'yes':\n",
    "        df.previous_appointment[i] = 'Yes'\n",
    "    elif df.previous_appointment[i] == 'YES':\n",
    "        df.previous_appointment[i] = 'Yes'\n",
    "   "
   ]
  },
  {
   "cell_type": "code",
   "execution_count": null,
   "metadata": {
    "collapsed": false
   },
   "outputs": [],
   "source": []
  },
  {
   "cell_type": "code",
   "execution_count": 18,
   "metadata": {
    "collapsed": false
   },
   "outputs": [
    {
     "name": "stderr",
     "output_type": "stream",
     "text": [
      "C:\\Users\\pranj\\Anaconda2\\lib\\site-packages\\ipykernel\\__main__.py:4: SettingWithCopyWarning: \n",
      "A value is trying to be set on a copy of a slice from a DataFrame\n",
      "\n",
      "See the caveats in the documentation: http://pandas.pydata.org/pandas-docs/stable/indexing.html#indexing-view-versus-copy\n"
     ]
    }
   ],
   "source": [
    "for i in range(0,57280):\n",
    "    \n",
    "    if df.sub_categories[i] == 'mEDICATION RELATED':\n",
    "        df.sub_categories[i] = 'MEDICATION RELATED'"
   ]
  },
  {
   "cell_type": "code",
   "execution_count": null,
   "metadata": {
    "collapsed": true
   },
   "outputs": [],
   "source": []
  },
  {
   "cell_type": "code",
   "execution_count": null,
   "metadata": {
    "collapsed": true
   },
   "outputs": [],
   "source": []
  },
  {
   "cell_type": "markdown",
   "metadata": {
    "collapsed": true
   },
   "source": [
    "#### assigning class to each category inorder to deal with CNN architecture"
   ]
  },
  {
   "cell_type": "code",
   "execution_count": 19,
   "metadata": {
    "collapsed": true
   },
   "outputs": [],
   "source": [
    "class_category = np.zeros(57280)\n",
    "subclass_category = np.zeros(57280)"
   ]
  },
  {
   "cell_type": "code",
   "execution_count": 20,
   "metadata": {
    "collapsed": true
   },
   "outputs": [],
   "source": [
    "for i in range(0,57280):\n",
    "    if df.categories[i] == 'MISCELLANEOUS':\n",
    "        class_category[i] = 0\n",
    "    elif df.categories[i] == 'ASK_A_DOCTOR':\n",
    "        class_category[i] = 1\n",
    "    elif df.categories[i] == 'PRESCRIPTION':\n",
    "        class_category[i] = 2\n",
    "    elif df.categories[i] == 'APPOINTMENTS':\n",
    "        class_category[i] = 3\n",
    "    elif df.categories[i] == 'LAB':\n",
    "        class_category[i] = 4\n",
    "    elif df.categories[i] == 'JUNK':\n",
    "        class_category[i] = 5"
   ]
  },
  {
   "cell_type": "code",
   "execution_count": 21,
   "metadata": {
    "collapsed": false
   },
   "outputs": [],
   "source": [
    "class_category = np.uint8(class_category)"
   ]
  },
  {
   "cell_type": "code",
   "execution_count": 22,
   "metadata": {
    "collapsed": false
   },
   "outputs": [],
   "source": [
    "df['class_category'] = class_category"
   ]
  },
  {
   "cell_type": "markdown",
   "metadata": {
    "collapsed": true
   },
   "source": [
    "### updated csv"
   ]
  },
  {
   "cell_type": "code",
   "execution_count": 23,
   "metadata": {
    "collapsed": false
   },
   "outputs": [
    {
     "data": {
      "text/html": [
       "<div>\n",
       "<style>\n",
       "    .dataframe thead tr:only-child th {\n",
       "        text-align: right;\n",
       "    }\n",
       "\n",
       "    .dataframe thead th {\n",
       "        text-align: left;\n",
       "    }\n",
       "\n",
       "    .dataframe tbody tr th {\n",
       "        vertical-align: top;\n",
       "    }\n",
       "</style>\n",
       "<table border=\"1\" class=\"dataframe\">\n",
       "  <thead>\n",
       "    <tr style=\"text-align: right;\">\n",
       "      <th></th>\n",
       "      <th>fileid</th>\n",
       "      <th>SUMMARY</th>\n",
       "      <th>DATA</th>\n",
       "      <th>categories</th>\n",
       "      <th>sub_categories</th>\n",
       "      <th>previous_appointment</th>\n",
       "      <th>ID</th>\n",
       "      <th>Cleandata</th>\n",
       "      <th>Summary</th>\n",
       "      <th>class_category</th>\n",
       "    </tr>\n",
       "  </thead>\n",
       "  <tbody>\n",
       "    <tr>\n",
       "      <th>0</th>\n",
       "      <td>2015561331001</td>\n",
       "      <td>Pt aware that he needs ROV for refill</td>\n",
       "      <td>{\\rtf1\\ansi\\ftnbj{\\fonttbl{\\f0 \\fswiss Arial;}...</td>\n",
       "      <td>PRESCRIPTION</td>\n",
       "      <td>REFILL</td>\n",
       "      <td>No</td>\n",
       "      <td>2015_5_6133_1001</td>\n",
       "      <td>Cell Phone CALL FROM PATIENT Cal...</td>\n",
       "      <td>patient  aware that he needs ROV for refill</td>\n",
       "      <td>2</td>\n",
       "    </tr>\n",
       "    <tr>\n",
       "      <th>1</th>\n",
       "      <td>2015561341001</td>\n",
       "      <td>Mom wants to know if the Focalin needs some do...</td>\n",
       "      <td>{\\rtf1\\ansi\\ftnbj{\\fonttbl{\\f0 \\fswiss Arial;}...</td>\n",
       "      <td>ASK_A_DOCTOR</td>\n",
       "      <td>MEDICATION RELATED</td>\n",
       "      <td>No</td>\n",
       "      <td>2015_5_6134_1001</td>\n",
       "      <td>Cell Phone CALL FROM PATIENT Cal...</td>\n",
       "      <td>Mom wants to know if the Focalin needs some do...</td>\n",
       "      <td>1</td>\n",
       "    </tr>\n",
       "    <tr>\n",
       "      <th>2</th>\n",
       "      <td>2015561351001</td>\n",
       "      <td>pt called to discuss nortryptiline. she says s...</td>\n",
       "      <td>xxxx-xxxx\\f0 \\fswiss Arial;}}{\\colortbl ;\\red2...</td>\n",
       "      <td>ASK_A_DOCTOR</td>\n",
       "      <td>MEDICATION RELATED</td>\n",
       "      <td>No</td>\n",
       "      <td>2015_5_6135_1001</td>\n",
       "      <td>Home Phone CALL FROM PATIENT Cal...</td>\n",
       "      <td>patient  called to discuss nortry patient ili...</td>\n",
       "      <td>1</td>\n",
       "    </tr>\n",
       "    <tr>\n",
       "      <th>3</th>\n",
       "      <td>2015561361001</td>\n",
       "      <td>FYI Nortryptline medication.</td>\n",
       "      <td>xxxx-xxxx\\f0 \\fswiss Arial;}}{\\colortbl ;\\red2...</td>\n",
       "      <td>MISCELLANEOUS</td>\n",
       "      <td>OTHERS</td>\n",
       "      <td>No</td>\n",
       "      <td>2015_5_6136_1001</td>\n",
       "      <td>Home Phone CALL FROM PATIENT Cal...</td>\n",
       "      <td>FYI Nortry patient line  medical ication.</td>\n",
       "      <td>0</td>\n",
       "    </tr>\n",
       "    <tr>\n",
       "      <th>4</th>\n",
       "      <td>2015561371001</td>\n",
       "      <td>Letter of patient establishment request</td>\n",
       "      <td>{\\rtf1\\ansi\\ftnbj{\\fonttbl{\\f0 \\fswiss Arial;}...</td>\n",
       "      <td>MISCELLANEOUS</td>\n",
       "      <td>SHARING OF HEALTH RECORDS (FAX, E-MAIL, ETC.)</td>\n",
       "      <td>No</td>\n",
       "      <td>2015_5_6137_1001</td>\n",
       "      <td>Other: xxx-- CALL FROM PATIENT C...</td>\n",
       "      <td>Letter of patient establishment request</td>\n",
       "      <td>0</td>\n",
       "    </tr>\n",
       "  </tbody>\n",
       "</table>\n",
       "</div>"
      ],
      "text/plain": [
       "          fileid                                            SUMMARY  \\\n",
       "0  2015561331001              Pt aware that he needs ROV for refill   \n",
       "1  2015561341001  Mom wants to know if the Focalin needs some do...   \n",
       "2  2015561351001  pt called to discuss nortryptiline. she says s...   \n",
       "3  2015561361001                       FYI Nortryptline medication.   \n",
       "4  2015561371001            Letter of patient establishment request   \n",
       "\n",
       "                                                DATA     categories  \\\n",
       "0  {\\rtf1\\ansi\\ftnbj{\\fonttbl{\\f0 \\fswiss Arial;}...   PRESCRIPTION   \n",
       "1  {\\rtf1\\ansi\\ftnbj{\\fonttbl{\\f0 \\fswiss Arial;}...   ASK_A_DOCTOR   \n",
       "2  xxxx-xxxx\\f0 \\fswiss Arial;}}{\\colortbl ;\\red2...   ASK_A_DOCTOR   \n",
       "3  xxxx-xxxx\\f0 \\fswiss Arial;}}{\\colortbl ;\\red2...  MISCELLANEOUS   \n",
       "4  {\\rtf1\\ansi\\ftnbj{\\fonttbl{\\f0 \\fswiss Arial;}...  MISCELLANEOUS   \n",
       "\n",
       "                                  sub_categories previous_appointment  \\\n",
       "0                                         REFILL                   No   \n",
       "1                             MEDICATION RELATED                   No   \n",
       "2                             MEDICATION RELATED                   No   \n",
       "3                                         OTHERS                   No   \n",
       "4  SHARING OF HEALTH RECORDS (FAX, E-MAIL, ETC.)                   No   \n",
       "\n",
       "                 ID                                          Cleandata  \\\n",
       "0  2015_5_6133_1001                Cell Phone CALL FROM PATIENT Cal...   \n",
       "1  2015_5_6134_1001                Cell Phone CALL FROM PATIENT Cal...   \n",
       "2  2015_5_6135_1001                Home Phone CALL FROM PATIENT Cal...   \n",
       "3  2015_5_6136_1001                Home Phone CALL FROM PATIENT Cal...   \n",
       "4  2015_5_6137_1001                Other: xxx-- CALL FROM PATIENT C...   \n",
       "\n",
       "                                             Summary  class_category  \n",
       "0        patient  aware that he needs ROV for refill               2  \n",
       "1  Mom wants to know if the Focalin needs some do...               1  \n",
       "2   patient  called to discuss nortry patient ili...               1  \n",
       "3          FYI Nortry patient line  medical ication.               0  \n",
       "4            Letter of patient establishment request               0  "
      ]
     },
     "execution_count": 23,
     "metadata": {},
     "output_type": "execute_result"
    }
   ],
   "source": [
    "df.head()"
   ]
  },
  {
   "cell_type": "code",
   "execution_count": 24,
   "metadata": {
    "collapsed": false
   },
   "outputs": [
    {
     "data": {
      "text/plain": [
       "array(['PRESCRIPTION', 'ASK_A_DOCTOR', 'MISCELLANEOUS', 'APPOINTMENTS',\n",
       "       'LAB', 'JUNK'], dtype=object)"
      ]
     },
     "execution_count": 24,
     "metadata": {},
     "output_type": "execute_result"
    }
   ],
   "source": [
    "df.categories.unique()"
   ]
  },
  {
   "cell_type": "code",
   "execution_count": 25,
   "metadata": {
    "collapsed": false
   },
   "outputs": [
    {
     "data": {
      "text/plain": [
       "array(['No', 'Yes', nan], dtype=object)"
      ]
     },
     "execution_count": 25,
     "metadata": {},
     "output_type": "execute_result"
    }
   ],
   "source": [
    "df.previous_appointment.unique()"
   ]
  },
  {
   "cell_type": "markdown",
   "metadata": {
    "collapsed": true
   },
   "source": [
    "### Part3"
   ]
  },
  {
   "cell_type": "code",
   "execution_count": 26,
   "metadata": {
    "collapsed": false
   },
   "outputs": [],
   "source": [
    "df.to_csv('CleanedData_updated.csv', index=True)"
   ]
  },
  {
   "cell_type": "code",
   "execution_count": null,
   "metadata": {
    "collapsed": true
   },
   "outputs": [],
   "source": []
  }
 ],
 "metadata": {
  "anaconda-cloud": {},
  "kernelspec": {
   "display_name": "Python [default]",
   "language": "python",
   "name": "python2"
  },
  "language_info": {
   "codemirror_mode": {
    "name": "ipython",
    "version": 2
   },
   "file_extension": ".py",
   "mimetype": "text/x-python",
   "name": "python",
   "nbconvert_exporter": "python",
   "pygments_lexer": "ipython2",
   "version": "2.7.12"
  }
 },
 "nbformat": 4,
 "nbformat_minor": 1
}
