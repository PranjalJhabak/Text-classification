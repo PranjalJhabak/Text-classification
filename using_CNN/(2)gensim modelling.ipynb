{
 "cells": [
  {
   "cell_type": "markdown",
   "metadata": {},
   "source": [
    "## Agenda"
   ]
  },
  {
   "cell_type": "markdown",
   "metadata": {},
   "source": [
    "## Representing each word present in the CleanData column in the dataset to vector inorder to deal with mathematical models "
   ]
  },
  {
   "cell_type": "code",
   "execution_count": 1,
   "metadata": {
    "collapsed": true
   },
   "outputs": [],
   "source": [
    "import os \n",
    "import re \n",
    "import nltk \n",
    "import numpy as np"
   ]
  },
  {
   "cell_type": "code",
   "execution_count": 2,
   "metadata": {
    "collapsed": true
   },
   "outputs": [],
   "source": [
    "os.chdir(\"C:\\Users\\pranj\\Desktop\\project\\dataset\")"
   ]
  },
  {
   "cell_type": "code",
   "execution_count": 3,
   "metadata": {
    "collapsed": true
   },
   "outputs": [],
   "source": [
    "import pandas as pd\n",
    "df = pd.read_csv(\"CleanedData_updated.csv\")"
   ]
  },
  {
   "cell_type": "markdown",
   "metadata": {},
   "source": [
    "### creating a list of CleanData Text in the dataset"
   ]
  },
  {
   "cell_type": "code",
   "execution_count": 4,
   "metadata": {
    "collapsed": false
   },
   "outputs": [],
   "source": [
    "nrow = len(df.DATA)\n",
    "string = []\n",
    "for i in range(0,nrow):\n",
    "        result1 = df.Cleandata[i]\n",
    "        string.append(result1)"
   ]
  },
  {
   "cell_type": "code",
   "execution_count": 5,
   "metadata": {
    "collapsed": false
   },
   "outputs": [
    {
     "data": {
      "text/plain": [
       "[' Cell PhoneCALL FROM PATIENTCaller Name: Caller: PatientCall For: NurseOther Patient is returning nurse call. He is unable to make appt without talking to fin service dept. However he needs medication and worried that he will have issue without medication. Please call patient to discuss. Call Taken by:   May 26, 2015 5:09 PMCall backFollow-up Details: Pt returned phone call. Please call back to advise @  May 27, 2015 8:46 AMAdditional Follow-up Details: What is the problem?  Is he without insurance?  He has been non-compliant with instructions to come in for a follow-up appt. and cannot have refills without one.Additional Follow-up by: David   May 27, 2015 8:54 AMAdditional Follow-up Details: RN spoke with pt and relayed the above to him.  he requested to speak with financial services.  RN transferred him to the business office.  RN requested Business office to call once matter has been completed.Follow-up by: Hollie Saltis RN ,  May 27, 2015 11:54 AMAdditional Follow-up Details: Ok.Additional Follow-up by: David   May 27, 2015 5:03 PM']"
      ]
     },
     "execution_count": 5,
     "metadata": {},
     "output_type": "execute_result"
    }
   ],
   "source": [
    "string[:1]"
   ]
  },
  {
   "cell_type": "code",
   "execution_count": 6,
   "metadata": {
    "collapsed": false
   },
   "outputs": [
    {
     "data": {
      "text/plain": [
       "list"
      ]
     },
     "execution_count": 6,
     "metadata": {},
     "output_type": "execute_result"
    }
   ],
   "source": [
    "type(string)"
   ]
  },
  {
   "cell_type": "markdown",
   "metadata": {},
   "source": [
    "### unlisting the string list to form a Corpus containing the complete text "
   ]
  },
  {
   "cell_type": "code",
   "execution_count": 7,
   "metadata": {
    "collapsed": true
   },
   "outputs": [],
   "source": [
    "str1 = ''.join(string)"
   ]
  },
  {
   "cell_type": "code",
   "execution_count": 8,
   "metadata": {
    "collapsed": false
   },
   "outputs": [
    {
     "data": {
      "text/plain": [
       "\" Cell PhoneCALL FROM PATIENTCaller Name: Caller: PatientCall For: NurseOther Patient is returning nurse call. He is unable to make appt without talking to fin service dept. However he needs medication and worried that he will have issue without medication. Please call patient to discuss. Call Taken by:   May 26, 2015 5:09 PMCall backFollow-up Details: Pt returned phone call. Please call back to advise @  May 27, 2015 8:46 AMAdditional Follow-up Details: What is the problem?  Is he without insurance?  He has been non-compliant with instructions to come in for a follow-up appt. and cannot have refills without one.Additional Follow-up by: David   May 27, 2015 8:54 AMAdditional Follow-up Details: RN spoke with pt and relayed the above to him.  he requested to speak with financial services.  RN transferred him to the business office.  RN requested Business office to call once matter has been completed.Follow-up by: Hollie Saltis RN ,  May 27, 2015 11:54 AMAdditional Follow-up Details: Ok.Additional Follow-up by: David   May 27, 2015 5:03 PM Cell PhoneCALL FROM PATIENTCaller Name: Caller: PatientOther Pt's school teacher is reporting pt is not able to sit still, mom wants to know if the Focalin needs some dosage adjusting, and/or is there something pt could take that the school staff could administer? Please call back to discuss. Call Taken by:  ,  May 12, 2015 1:42 PMFollow-up Details: Mom sts patient is having alot of issues with meds, and effectiveness. LOV 1-27-15, 3-19-15 rescheduled to 4-28-15 and that was a No Show. Mom apologized for the no show. She sts they disconnected the home number and only use the cell. Appt scheduled for 5-14-15 at 10. Advd to be here at 945.Action Taken: Phone Call Completed, Appt ScheduledFollow-up by: Marcia Richardson LPN ,  May 12, 2015 4:18 PM Home PhoneCALL FROM PATIENTCaller: PatientPrescription Other Prescription Comments:pt called to discuss nortryptiline. she says she has a weird taste in her mouth and pt also sweats heavily, pl\""
      ]
     },
     "execution_count": 8,
     "metadata": {},
     "output_type": "execute_result"
    }
   ],
   "source": [
    "str1[:2000]"
   ]
  },
  {
   "cell_type": "markdown",
   "metadata": {},
   "source": [
    "### preprocessing on the generated new string"
   ]
  },
  {
   "cell_type": "code",
   "execution_count": 9,
   "metadata": {
    "collapsed": false
   },
   "outputs": [],
   "source": [
    "import re\n",
    "string = re.sub(\"[^\\w]\", \" \",  str1).split()"
   ]
  },
  {
   "cell_type": "code",
   "execution_count": 11,
   "metadata": {
    "collapsed": false
   },
   "outputs": [
    {
     "data": {
      "text/plain": [
       "\"['Cell', 'PhoneCALL', 'FROM', 'PATIENTCaller', 'Name', 'Caller', 'PatientCall', 'For', 'NurseOther', 'Patient']\""
      ]
     },
     "execution_count": 11,
     "metadata": {},
     "output_type": "execute_result"
    }
   ],
   "source": [
    "str(string[:10])"
   ]
  },
  {
   "cell_type": "code",
   "execution_count": 10,
   "metadata": {
    "collapsed": false
   },
   "outputs": [
    {
     "name": "stdout",
     "output_type": "stream",
     "text": [
      "['cell', 'phonecall', 'from', 'patientcaller', 'name', 'caller', 'patientcall', 'for', 'nurseother', 'patient']\n"
     ]
    }
   ],
   "source": [
    "lower_tokens = [token.lower() for token in string]\n",
    "print(lower_tokens[:10])"
   ]
  },
  {
   "cell_type": "code",
   "execution_count": 11,
   "metadata": {
    "collapsed": false
   },
   "outputs": [],
   "source": [
    "lmtzr = nltk.stem.WordNetLemmatizer()\n",
    "#print(lmtzr)\n",
    "tokens = [lmtzr.lemmatize(token) for token in lower_tokens]\n"
   ]
  },
  {
   "cell_type": "code",
   "execution_count": 14,
   "metadata": {
    "collapsed": false
   },
   "outputs": [
    {
     "name": "stdout",
     "output_type": "stream",
     "text": [
      "['cell', 'phonecall', 'from', 'patientcaller', 'name', 'caller', 'patientcall', 'for', 'nurseother', 'patient', 'is', 'returning', 'nurse', 'call', 'he', 'is', 'unable', 'to', 'make', 'appt']\n"
     ]
    }
   ],
   "source": [
    "print(tokens[:20])"
   ]
  },
  {
   "cell_type": "code",
   "execution_count": 12,
   "metadata": {
    "collapsed": false
   },
   "outputs": [],
   "source": [
    "tok_corp= [nltk.word_tokenize(sent.decode('utf-8')) for sent in tokens]"
   ]
  },
  {
   "cell_type": "code",
   "execution_count": 16,
   "metadata": {
    "collapsed": false,
    "scrolled": true
   },
   "outputs": [
    {
     "data": {
      "text/plain": [
       "[[u'cell'],\n",
       " [u'phonecall'],\n",
       " [u'from'],\n",
       " [u'patientcaller'],\n",
       " [u'name'],\n",
       " [u'caller'],\n",
       " [u'patientcall'],\n",
       " [u'for'],\n",
       " [u'nurseother'],\n",
       " [u'patient']]"
      ]
     },
     "execution_count": 16,
     "metadata": {},
     "output_type": "execute_result"
    }
   ],
   "source": [
    "tok_corp[:10]"
   ]
  },
  {
   "cell_type": "markdown",
   "metadata": {},
   "source": [
    "## Using Gensim library Converting each generated token to 10 dimensional vector"
   ]
  },
  {
   "cell_type": "code",
   "execution_count": 2,
   "metadata": {
    "collapsed": false,
    "scrolled": true
   },
   "outputs": [
    {
     "name": "stderr",
     "output_type": "stream",
     "text": [
      "C:\\Users\\pranj\\Anaconda2\\lib\\site-packages\\gensim\\utils.py:860: UserWarning: detected Windows; aliasing chunkize to chunkize_serial\n",
      "  warnings.warn(\"detected Windows; aliasing chunkize to chunkize_serial\")\n",
      "Using Theano backend.\n"
     ]
    },
    {
     "ename": "NameError",
     "evalue": "name 'tok_corp' is not defined",
     "output_type": "error",
     "traceback": [
      "\u001b[0;31m---------------------------------------------------------------------------\u001b[0m",
      "\u001b[0;31mNameError\u001b[0m                                 Traceback (most recent call last)",
      "\u001b[0;32m<ipython-input-2-bf6d2499aa62>\u001b[0m in \u001b[0;36m<module>\u001b[0;34m()\u001b[0m\n\u001b[1;32m      1\u001b[0m \u001b[1;32mimport\u001b[0m \u001b[0mgensim\u001b[0m\u001b[1;33m\u001b[0m\u001b[0m\n\u001b[0;32m----> 2\u001b[0;31m \u001b[0mmodel\u001b[0m \u001b[1;33m=\u001b[0m \u001b[0mgensim\u001b[0m\u001b[1;33m.\u001b[0m\u001b[0mmodels\u001b[0m\u001b[1;33m.\u001b[0m\u001b[0mWord2Vec\u001b[0m\u001b[1;33m(\u001b[0m\u001b[0mtok_corp\u001b[0m\u001b[1;33m,\u001b[0m \u001b[0mmin_count\u001b[0m\u001b[1;33m=\u001b[0m\u001b[1;36m1\u001b[0m\u001b[1;33m,\u001b[0m \u001b[0msize\u001b[0m \u001b[1;33m=\u001b[0m \u001b[1;36m10\u001b[0m\u001b[1;33m)\u001b[0m\u001b[1;33m\u001b[0m\u001b[0m\n\u001b[0m",
      "\u001b[0;31mNameError\u001b[0m: name 'tok_corp' is not defined"
     ]
    }
   ],
   "source": [
    "import gensim\n",
    "model = gensim.models.Word2Vec(tok_corp, min_count=1, size = 10)"
   ]
  },
  {
   "cell_type": "code",
   "execution_count": 17,
   "metadata": {
    "collapsed": false
   },
   "outputs": [
    {
     "data": {
      "text/plain": [
       "array([ 0.03118866, -0.02677078, -0.03667068,  0.04120504, -0.02183794,\n",
       "       -0.02273607,  0.01416798, -0.020467  , -0.04240622, -0.02359656], dtype=float32)"
      ]
     },
     "execution_count": 17,
     "metadata": {},
     "output_type": "execute_result"
    }
   ],
   "source": [
    "model.wv['patient']"
   ]
  },
  {
   "cell_type": "code",
   "execution_count": 66,
   "metadata": {
    "collapsed": false
   },
   "outputs": [
    {
     "data": {
      "text/plain": [
       "[(u'frustration', 0.9368661046028137),\n",
       " (u'correctlycall', 0.9337447881698608),\n",
       " (u'pc', 0.9301897287368774),\n",
       " (u'mhxx', 0.9277840256690979),\n",
       " (u'1243', 0.9229392409324646),\n",
       " (u'911follow', 0.9063040018081665),\n",
       " (u'searching', 0.903664767742157),\n",
       " (u'memberclinical', 0.8953491449356079),\n",
       " (u'07170', 0.8932851552963257),\n",
       " (u'chelsea', 0.8893283009529114)]"
      ]
     },
     "execution_count": 66,
     "metadata": {},
     "output_type": "execute_result"
    }
   ],
   "source": [
    "model.wv.most_similar('patient')"
   ]
  },
  {
   "cell_type": "code",
   "execution_count": 55,
   "metadata": {
    "collapsed": false,
    "scrolled": true
   },
   "outputs": [
    {
     "data": {
      "text/plain": [
       "[(u'he', 0.9085346460342407),\n",
       " (u'taste', 0.8149821162223816),\n",
       " (u'14', 0.8005111217498779),\n",
       " (u'nortriptyline', 0.6774830222129822),\n",
       " (u'3', 0.64771568775177),\n",
       " (u'called', 0.6435515880584717),\n",
       " (u'28', 0.6022399663925171),\n",
       " (u'06', 0.591835618019104),\n",
       " (u'09', 0.5684573650360107),\n",
       " (u'say', 0.5078026056289673)]"
      ]
     },
     "execution_count": 55,
     "metadata": {},
     "output_type": "execute_result"
    }
   ],
   "source": [
    "model.wv.most_similar('call')"
   ]
  },
  {
   "cell_type": "markdown",
   "metadata": {},
   "source": [
    "### Saving Model to local file as it takes time to regenerate"
   ]
  },
  {
   "cell_type": "code",
   "execution_count": 18,
   "metadata": {
    "collapsed": true
   },
   "outputs": [],
   "source": [
    "model.save('word_vec_model_mincount1_updated')\n"
   ]
  },
  {
   "cell_type": "code",
   "execution_count": 2,
   "metadata": {
    "collapsed": false
   },
   "outputs": [
    {
     "name": "stderr",
     "output_type": "stream",
     "text": [
      "C:\\Users\\pranj\\Anaconda2\\lib\\site-packages\\gensim\\utils.py:860: UserWarning: detected Windows; aliasing chunkize to chunkize_serial\n",
      "  warnings.warn(\"detected Windows; aliasing chunkize to chunkize_serial\")\n",
      "Using Theano backend.\n"
     ]
    }
   ],
   "source": [
    "import gensim\n",
    "model = gensim.models.Word2Vec.load('word_vec_model_mincount1')"
   ]
  },
  {
   "cell_type": "code",
   "execution_count": null,
   "metadata": {
    "collapsed": true
   },
   "outputs": [],
   "source": []
  }
 ],
 "metadata": {
  "anaconda-cloud": {},
  "kernelspec": {
   "display_name": "Python [default]",
   "language": "python",
   "name": "python2"
  },
  "language_info": {
   "codemirror_mode": {
    "name": "ipython",
    "version": 2
   },
   "file_extension": ".py",
   "mimetype": "text/x-python",
   "name": "python",
   "nbconvert_exporter": "python",
   "pygments_lexer": "ipython2",
   "version": "2.7.12"
  }
 },
 "nbformat": 4,
 "nbformat_minor": 1
}
