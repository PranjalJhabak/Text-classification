{
 "cells": [
  {
   "cell_type": "markdown",
   "metadata": {},
   "source": [
    "## Agenda\n",
    "## Build ML models to classify text 'token' into categories and subcategories"
   ]
  },
  {
   "cell_type": "code",
   "execution_count": 6,
   "metadata": {
    "collapsed": true
   },
   "outputs": [],
   "source": [
    "import os \n",
    "import re \n",
    "import nltk \n",
    "import random \n",
    "import numpy as np\n",
    "from sklearn.naive_bayes import MultinomialNB\n",
    "from sklearn.metrics import confusion_matrix \n",
    "from sklearn.feature_extraction.text import TfidfVectorizer, CountVectorizer"
   ]
  },
  {
   "cell_type": "markdown",
   "metadata": {},
   "source": [
    "#### Uploading file genertaed in last code"
   ]
  },
  {
   "cell_type": "code",
   "execution_count": 1,
   "metadata": {
    "collapsed": true
   },
   "outputs": [],
   "source": [
    "import pandas as pd\n",
    "df = pd.read_csv(\"CleanedData_updated_ml.csv\")"
   ]
  },
  {
   "cell_type": "code",
   "execution_count": 2,
   "metadata": {
    "collapsed": false
   },
   "outputs": [
    {
     "name": "stderr",
     "output_type": "stream",
     "text": [
      "C:\\Users\\pranj\\Anaconda2\\lib\\site-packages\\sklearn\\cross_validation.py:44: DeprecationWarning: This module was deprecated in version 0.18 in favor of the model_selection module into which all the refactored classes and functions are moved. Also note that the interface of the new CV iterators are different from that of this module. This module will be removed in 0.20.\n",
      "  \"This module will be removed in 0.20.\", DeprecationWarning)\n"
     ]
    }
   ],
   "source": [
    "from sklearn.cross_validation import train_test_split\n",
    "train, test = train_test_split(df, train_size = 0.7)"
   ]
  },
  {
   "cell_type": "markdown",
   "metadata": {},
   "source": [
    "## Part A - Classify tokens into categories"
   ]
  },
  {
   "cell_type": "code",
   "execution_count": 3,
   "metadata": {
    "collapsed": true
   },
   "outputs": [],
   "source": [
    "Train_input = train.tokens\n",
    "Train_output = train.categories\n",
    "Test_input = test.tokens\n",
    "Test_output = test.categories"
   ]
  },
  {
   "cell_type": "code",
   "execution_count": 4,
   "metadata": {
    "collapsed": false
   },
   "outputs": [
    {
     "data": {
      "text/plain": [
       "pandas.core.series.Series"
      ]
     },
     "execution_count": 4,
     "metadata": {},
     "output_type": "execute_result"
    }
   ],
   "source": [
    "type(Test_output)"
   ]
  },
  {
   "cell_type": "code",
   "execution_count": 11,
   "metadata": {
    "collapsed": false
   },
   "outputs": [
    {
     "data": {
      "text/plain": [
       "(40096L,)"
      ]
     },
     "execution_count": 11,
     "metadata": {},
     "output_type": "execute_result"
    }
   ],
   "source": [
    "Train_input.shape"
   ]
  },
  {
   "cell_type": "markdown",
   "metadata": {},
   "source": [
    "### Text needs to be convert into numerical form, since algorithm works on number n not on text\n"
   ]
  },
  {
   "cell_type": "markdown",
   "metadata": {},
   "source": [
    "#### instantiate the model"
   ]
  },
  {
   "cell_type": "code",
   "execution_count": 12,
   "metadata": {
    "collapsed": false
   },
   "outputs": [],
   "source": [
    "\n",
    "tfidf_vectorizer = TfidfVectorizer(ngram_range=(1,3), max_df = 0.9, min_df = 2)"
   ]
  },
  {
   "cell_type": "markdown",
   "metadata": {},
   "source": [
    "#### .fit(train) learns the vocabulary of the training data\n",
    "#### .transform(train) uses the fitted vocabulary to build a document-term matrix from the training data"
   ]
  },
  {
   "cell_type": "code",
   "execution_count": 13,
   "metadata": {
    "collapsed": true
   },
   "outputs": [],
   "source": [
    "#fit the model,,,,it learns the relationsip btw features and response\n",
    "\n",
    "X_train_dtm_sparse = tfidf_vectorizer.fit_transform(Train_input)"
   ]
  },
  {
   "cell_type": "markdown",
   "metadata": {},
   "source": [
    "#### transform(on test) uses the fitted vocabulary to build a document-term matrix from the testing data (and ignores tokens it hasn't seen before)"
   ]
  },
  {
   "cell_type": "code",
   "execution_count": 14,
   "metadata": {
    "collapsed": true
   },
   "outputs": [],
   "source": [
    "# transform training data into document term matrix\n",
    "X_test_dtm_sparse = tfidf_vectorizer.transform(Test_input)"
   ]
  },
  {
   "cell_type": "code",
   "execution_count": 15,
   "metadata": {
    "collapsed": false
   },
   "outputs": [
    {
     "data": {
      "text/plain": [
       "scipy.sparse.csr.csr_matrix"
      ]
     },
     "execution_count": 15,
     "metadata": {},
     "output_type": "execute_result"
    }
   ],
   "source": [
    "type(X_train_dtm_sparse)"
   ]
  },
  {
   "cell_type": "code",
   "execution_count": 16,
   "metadata": {
    "collapsed": false,
    "scrolled": true
   },
   "outputs": [
    {
     "data": {
      "text/plain": [
       "278736"
      ]
     },
     "execution_count": 16,
     "metadata": {},
     "output_type": "execute_result"
    }
   ],
   "source": [
    "# store the vocabulary of X_train\n",
    "Train_input_tokens = tfidf_vectorizer.get_feature_names()\n",
    "len(Train_input_tokens)"
   ]
  },
  {
   "cell_type": "code",
   "execution_count": 17,
   "metadata": {
    "collapsed": false
   },
   "outputs": [
    {
     "name": "stdout",
     "output_type": "stream",
     "text": [
      "[u'cvs pharmacy alexander', u'cvs pharmacy battle', u'cvs pharmacy bickett', u'cvs pharmacy call', u'cvs pharmacy capital', u'cvs pharmacy cole', u'cvs pharmacy east', u'cvs pharmacy forest', u'cvs pharmacy garrett', u'cvs pharmacy glenwood', u'cvs pharmacy hillsborough', u'cvs pharmacy hwy', u'cvs pharmacy kildaire', u'cvs pharmacy knighdale', u'cvs pharmacy leesville', u'cvs pharmacy main', u'cvs pharmacy medication', u'cvs pharmacy nash', u'cvs pharmacy nc', u'cvs pharmacy new', u'cvs pharmacy north', u'cvs pharmacy pharmacy', u'cvs pharmacy piney', u'cvs pharmacy reason', u'cvs pharmacy retail', u'cvs pharmacy roxboro', u'cvs pharmacy rx', u'cvs pharmacy south', u'cvs pharmacy sunset', u'cvs pharmacy timber', u'cvs pharmacy tryon', u'cvs pharmacy village', u'cvs pharmacy wake', u'cvs pharmacy west', u'cw', u'cw doppler', u'cw doppler color', u'cwp', u'cwp atp', u'cwp atp follow', u'cwp atp rna', u'cwp compdl', u'cwp please', u'cwp please advise', u'cx', u'cx additional', u'cx additional follow', u'cx appointment', u'cx appointment called', u'cx appointment due']\n"
     ]
    }
   ],
   "source": [
    "\n",
    "# examine the first 50 tokens\n",
    "print(Train_input_tokens[50000:50050])"
   ]
  },
  {
   "cell_type": "code",
   "execution_count": 18,
   "metadata": {
    "collapsed": false
   },
   "outputs": [
    {
     "name": "stdout",
     "output_type": "stream",
     "text": [
      "[u'zonegran request', u'zonegran rx', u'zonegran rx called', u'zonegran week', u'zonegran well', u'zonegran went', u'zonegran would', u'zonegran zonisamide', u'zonegran zonisamide red', u'zonergran', u'zonergran mg', u'zoning', u'zonisamide', u'zonisamide bid', u'zonisamide mg', u'zonisamide mg day', u'zonisamide please', u'zonisamide red', u'zonisamide red cpt', u'zonisamide rx', u'zonisamide say', u'zonisamide tab', u'zoniside', u'zoniside cap', u'zoniside cap po', u'zoniside mg', u'zoniside mg cap', u'zoniside mg oral', u'zoniside one', u'zoniside one po', u'zoniside po', u'zoniside po day', u'zoniside po qhs', u'zoniside rx', u'zoniside take', u'zonisimide', u'zoster', u'zoster vzv', u'zoster vzv antibody', u'zpack', u'zyprexa', u'zyprexa additional', u'zyprexa additional follow', u'zyprexa mg', u'zyprexa mg oral', u'zyprexa mg tab', u'zyprexa rx', u'zyprexa rx built', u'zyprexa start', u'zyrtec']\n"
     ]
    }
   ],
   "source": [
    "print(Train_input_tokens[-50:])"
   ]
  },
  {
   "cell_type": "code",
   "execution_count": null,
   "metadata": {
    "collapsed": true
   },
   "outputs": [],
   "source": []
  },
  {
   "cell_type": "code",
   "execution_count": null,
   "metadata": {
    "collapsed": true
   },
   "outputs": [],
   "source": [
    "#pd.DataFrame(X_train_dtm_sparse.todense()[35:40,12735:12745], \n",
    "#             columns = tfidf_vectorizer.get_feature_names()[12735:12745])"
   ]
  },
  {
   "cell_type": "code",
   "execution_count": null,
   "metadata": {
    "collapsed": true
   },
   "outputs": [],
   "source": [
    "#inorder to make predictions new observation must have the same features as the training obs, \n",
    "#both in number n meaning other it will give error, if the order of features is chaged,,the op will be wrong\n",
    "#sckit acpets its input to be numpy array n numpy arrays are not lableled"
   ]
  },
  {
   "cell_type": "markdown",
   "metadata": {},
   "source": [
    "### Building model with Logistic "
   ]
  },
  {
   "cell_type": "code",
   "execution_count": 19,
   "metadata": {
    "collapsed": true
   },
   "outputs": [],
   "source": [
    "from sklearn.metrics import confusion_matrix, accuracy_score\n",
    "from sklearn.linear_model import LogisticRegression "
   ]
  },
  {
   "cell_type": "code",
   "execution_count": 20,
   "metadata": {
    "collapsed": false
   },
   "outputs": [
    {
     "data": {
      "text/plain": [
       "pandas.core.series.Series"
      ]
     },
     "execution_count": 20,
     "metadata": {},
     "output_type": "execute_result"
    }
   ],
   "source": [
    "type(Train_output)"
   ]
  },
  {
   "cell_type": "code",
   "execution_count": 21,
   "metadata": {
    "collapsed": false
   },
   "outputs": [
    {
     "name": "stdout",
     "output_type": "stream",
     "text": [
      "Wall time: 23.2 s\n",
      "[[3564  233    0   28  295  112]\n",
      " [ 165 2701    0   42  258  317]\n",
      " [   3    0    0    0    4    0]\n",
      " [  63   68    0  962  171   61]\n",
      " [ 285  285    0   70 2772  218]\n",
      " [ 107  274    0   28  295 3803]]\n"
     ]
    },
    {
     "data": {
      "text/plain": [
       "0.8031890130353817"
      ]
     },
     "execution_count": 21,
     "metadata": {},
     "output_type": "execute_result"
    }
   ],
   "source": [
    "glm = LogisticRegression()\n",
    "\n",
    "%time glm.fit(X_train_dtm_sparse, np.array(Train_output))\n",
    "predictions = glm.predict(X_test_dtm_sparse)\n",
    "\n",
    "print(confusion_matrix(Test_output, predictions))\n",
    "accuracy_score(Test_output, predictions)"
   ]
  },
  {
   "cell_type": "code",
   "execution_count": null,
   "metadata": {
    "collapsed": true
   },
   "outputs": [],
   "source": []
  },
  {
   "cell_type": "markdown",
   "metadata": {},
   "source": [
    "### building model with Multinomial Naive bayes"
   ]
  },
  {
   "cell_type": "code",
   "execution_count": 22,
   "metadata": {
    "collapsed": false
   },
   "outputs": [
    {
     "name": "stdout",
     "output_type": "stream",
     "text": [
      "Wall time: 416 ms\n"
     ]
    },
    {
     "data": {
      "text/plain": [
       "MultinomialNB(alpha=1.0, class_prior=None, fit_prior=True)"
      ]
     },
     "execution_count": 22,
     "metadata": {},
     "output_type": "execute_result"
    }
   ],
   "source": [
    "nb = MultinomialNB()\n",
    "%time  nb.fit(X_train_dtm_sparse, np.array(Train_output))"
   ]
  },
  {
   "cell_type": "code",
   "execution_count": 23,
   "metadata": {
    "collapsed": false
   },
   "outputs": [
    {
     "name": "stdout",
     "output_type": "stream",
     "text": [
      "[[3265  597    0    2  272   96]\n",
      " [  93 2783    0    2  179  426]\n",
      " [   3    0    0    0    4    0]\n",
      " [ 104  462    0  324  386   49]\n",
      " [ 398  783    0    0 2246  203]\n",
      " [ 176  441    0    0  372 3518]]\n"
     ]
    },
    {
     "data": {
      "text/plain": [
       "0.70623836126629425"
      ]
     },
     "execution_count": 23,
     "metadata": {},
     "output_type": "execute_result"
    }
   ],
   "source": [
    "predictions = nb.predict(X_test_dtm_sparse)\n",
    "print(confusion_matrix(Test_output, predictions))\n",
    "accuracy_score(Test_output, predictions)"
   ]
  },
  {
   "cell_type": "code",
   "execution_count": 24,
   "metadata": {
    "collapsed": false
   },
   "outputs": [
    {
     "data": {
      "text/plain": [
       "array([[  0.        ,   0.21032796,   0.21042853, ...,   0.        ,\n",
       "          0.        ,   0.        ],\n",
       "       [  0.08783627,   0.28615352,   0.28629035, ...,   0.17090275,\n",
       "          0.16891245,   0.55812203],\n",
       "       [  0.        ,   0.09870161,   0.0987488 , ...,   0.        ,\n",
       "          0.        ,   0.        ],\n",
       "       [  0.        ,   1.91024221,   1.91115558, ...,   0.        ,\n",
       "          0.        ,   0.        ],\n",
       "       [  0.        ,  25.0028521 ,  24.96286517, ...,   0.        ,\n",
       "          0.        ,   0.        ],\n",
       "       [  0.09436082,   1.56264573,   1.56339289, ...,   0.        ,\n",
       "          0.        ,   0.37127086]])"
      ]
     },
     "execution_count": 24,
     "metadata": {},
     "output_type": "execute_result"
    }
   ],
   "source": [
    "# Naive Bayes counts the number of times each token appears in each class\n",
    "nb.feature_count_"
   ]
  },
  {
   "cell_type": "code",
   "execution_count": 25,
   "metadata": {
    "collapsed": false
   },
   "outputs": [
    {
     "data": {
      "text/plain": [
       "array([  9640.,   8317.,     14.,   2996.,   8540.,  10589.])"
      ]
     },
     "execution_count": 25,
     "metadata": {},
     "output_type": "execute_result"
    }
   ],
   "source": [
    "# Naive Bayes counts the number of observations in each class\n",
    "nb.class_count_"
   ]
  },
  {
   "cell_type": "code",
   "execution_count": 26,
   "metadata": {
    "collapsed": false
   },
   "outputs": [
    {
     "data": {
      "text/plain": [
       "(6L, 278736L)"
      ]
     },
     "execution_count": 26,
     "metadata": {},
     "output_type": "execute_result"
    }
   ],
   "source": [
    "nb.feature_count_.shape"
   ]
  },
  {
   "cell_type": "code",
   "execution_count": null,
   "metadata": {
    "collapsed": true
   },
   "outputs": [],
   "source": []
  },
  {
   "cell_type": "markdown",
   "metadata": {},
   "source": [
    "### Modeling with Random Forest"
   ]
  },
  {
   "cell_type": "code",
   "execution_count": 27,
   "metadata": {
    "collapsed": true
   },
   "outputs": [],
   "source": [
    "from sklearn.ensemble import RandomForestClassifier"
   ]
  },
  {
   "cell_type": "code",
   "execution_count": 28,
   "metadata": {
    "collapsed": true
   },
   "outputs": [],
   "source": [
    "rf = RandomForestClassifier() # initialize"
   ]
  },
  {
   "cell_type": "code",
   "execution_count": 29,
   "metadata": {
    "collapsed": false
   },
   "outputs": [
    {
     "name": "stdout",
     "output_type": "stream",
     "text": [
      "Wall time: 1min 32s\n"
     ]
    },
    {
     "data": {
      "text/plain": [
       "RandomForestClassifier(bootstrap=True, class_weight=None, criterion='gini',\n",
       "            max_depth=None, max_features='auto', max_leaf_nodes=None,\n",
       "            min_impurity_split=1e-07, min_samples_leaf=1,\n",
       "            min_samples_split=2, min_weight_fraction_leaf=0.0,\n",
       "            n_estimators=10, n_jobs=1, oob_score=False, random_state=None,\n",
       "            verbose=0, warm_start=False)"
      ]
     },
     "execution_count": 29,
     "metadata": {},
     "output_type": "execute_result"
    }
   ],
   "source": [
    "%time  rf.fit(X_train_dtm_sparse, np.array(Train_output)) # fit the data to the algorithm"
   ]
  },
  {
   "cell_type": "code",
   "execution_count": 30,
   "metadata": {
    "collapsed": false
   },
   "outputs": [
    {
     "name": "stdout",
     "output_type": "stream",
     "text": [
      "[[3365  341    0   20  428   78]\n",
      " [ 368 2380    0   32  355  348]\n",
      " [   0    0    2    0    5    0]\n",
      " [ 135  143    0  738  278   31]\n",
      " [ 536  465    1   77 2358  193]\n",
      " [ 208  463    0   19  423 3394]]\n"
     ]
    },
    {
     "data": {
      "text/plain": [
       "0.71211592178770955"
      ]
     },
     "execution_count": 30,
     "metadata": {},
     "output_type": "execute_result"
    }
   ],
   "source": [
    "predictions = rf.predict(X_test_dtm_sparse)\n",
    "print(confusion_matrix(Test_output, predictions))\n",
    "accuracy_score(Test_output, predictions)"
   ]
  },
  {
   "cell_type": "markdown",
   "metadata": {},
   "source": [
    "#### print message text for the misclassification"
   ]
  },
  {
   "cell_type": "code",
   "execution_count": 31,
   "metadata": {
    "collapsed": false,
    "scrolled": true
   },
   "outputs": [
    {
     "data": {
      "text/plain": [
       "35093    cell phone call patient caller name : caller :...\n",
       "27192    home phone cell phone call patient caller : pa...\n",
       "5850     cell phone call patient caller name : caller :...\n",
       "20112    home phone call patient patient want phone cal...\n",
       "42442    cell phone call patient caller name : patient ...\n",
       "31812    patient notified appointment ... kg -- -- conv...\n",
       "43993    : -- call patient caller : daughter law appoin...\n",
       "20161    home phone cell phone call patient caller name...\n",
       "104      xxx left message patient call back schedule ap...\n",
       "4204     cell phone call patient prescri patient ion \\f...\n",
       "3814     \\margl\\margr\\margt\\margb\\headery\\footery\\forms...\n",
       "7436     home phone cell phone call patient caller : pa...\n",
       "45582    tbl n mal mshade incoming call caller name : c...\n",
       "14662    home phone call patient caller : patient patie...\n",
       "40661    cell phone call patient appointment oberlin rd...\n",
       "27460    left message patient call back schedule appoin...\n",
       "14947    home phone call patient caller name : caller :...\n",
       "50566    -- -- converted flag -- -- -- -- // : , lori b...\n",
       "20957    medfusion - secure electronic message subject ...\n",
       "16341    : -- call patient caller name : caller : daugh...\n",
       "6695     cell phone call patient patient state piece in...\n",
       "46885    : xxx -- call patient caller : mom follow-up d...\n",
       "8712     cell phone follow-up detail : mom called would...\n",
       "45640    home phone cell phone call patient caller : pa...\n",
       "41137    cell phone call patient caller : patient patie...\n",
       "30955    cell phone call patient mom ready sch would li...\n",
       "40611    message sent thru portal schd -- -- converted ...\n",
       "57268    -- -- converted flag -- -- -- -- // : , jacque...\n",
       "24148    home phonexxx call patient caller name : spous...\n",
       "19555    home phone cell phoner call patient caller : p...\n",
       "                               ...                        \n",
       "3803     incoming call caller name : home care call : m...\n",
       "51465    cell phone call patient caller : patient call ...\n",
       "29840    clinical list change medfusion - secure electr...\n",
       "48313    cell phone call patient caller : patient presc...\n",
       "39986    call clinic caller name : caller : nurse reaso...\n",
       "34438    follow-up detail : fax , april , : \\cf\\cfrx re...\n",
       "12068    cell phone call patient caller : patient patie...\n",
       "50705    call patient caller : mom mom called would lik...\n",
       "2266     : xxx -- call patient caller name : caller : p...\n",
       "42774    home phone call patient caller name : spouse p...\n",
       "15518    cell phone follow-up detail : patient would li...\n",
       "27877    cell phonexx call patient caller name : mom ca...\n",
       "32962    call patient caller : patient checking patient...\n",
       "56994    # disconnected unable lm patient need sch psg ...\n",
       "24056    -- -- converted flag -- -- -- -- // : , karla ...\n",
       "1144     added wgf waitlist . -- -- converted flag -- -...\n",
       "46614    cell phone call patient caller : patient presc...\n",
       "15264    auth obtained , elig scanned , case built . vi...\n",
       "17665    called number working xxx also called dad , fi...\n",
       "37765    cell phone call patient caller , please call c...\n",
       "25827    cell phone call patient caller name : xxx call...\n",
       "51319    : xxx -- call patient caller : spouse appointm...\n",
       "29020    cell phone call patient caller : patient presc...\n",
       "24689    home phone cell phone call patient caller : pa...\n",
       "13171    -- -- converted flag -- -- -- -- // : , valeri...\n",
       "47582    cell phone call patient caller name : caller :...\n",
       "35557    unable schd patient time due balance let messa...\n",
       "32565    : -- incoming call caller name : reason call :...\n",
       "1756     home phone call patient caller name : mom pres...\n",
       "53964    call clinic caller name : reason call : detail...\n",
       "Name: tokens, Length: 4947, dtype: object"
      ]
     },
     "execution_count": 31,
     "metadata": {},
     "output_type": "execute_result"
    }
   ],
   "source": [
    "\n",
    "Test_input[Test_output != predictions]"
   ]
  },
  {
   "cell_type": "code",
   "execution_count": 33,
   "metadata": {
    "collapsed": false
   },
   "outputs": [
    {
     "data": {
      "text/plain": [
       "\"cell phone call patient caller name : caller : dad patient 's dad called state went pharmcy told patien'ts medication changed state impression medication changed kmr . please call back advise @ april , : rna follow-up follow-up detail : spoke dad . told lamictal hold since wanted try wait summertime try new med . dad v/u . follow-up : lori brown rn , april , : clinical list change medication updated : changed medication lictal mg chew ( lotrigine ) po bid lictal mg chew ( lotrigine ) hold - po bid - signed rx lictal mg chew ( lotrigine ) hold - po bid # tablet x signed entered : lori brown rn authorizedd : historicalplease cosign - new medical pharmacy\""
      ]
     },
     "execution_count": 33,
     "metadata": {},
     "output_type": "execute_result"
    }
   ],
   "source": [
    "Test_input[35093]"
   ]
  },
  {
   "cell_type": "code",
   "execution_count": null,
   "metadata": {
    "collapsed": true
   },
   "outputs": [],
   "source": []
  },
  {
   "cell_type": "markdown",
   "metadata": {},
   "source": [
    "## Part B - Classify tokens into sub_categories"
   ]
  },
  {
   "cell_type": "code",
   "execution_count": 34,
   "metadata": {
    "collapsed": true
   },
   "outputs": [],
   "source": [
    "Train_input1 = train.tokens\n",
    "Train_output1 = train.sub_categories\n",
    "Test_input1 = test.tokens\n",
    "Test_output1 = test.sub_categories"
   ]
  },
  {
   "cell_type": "code",
   "execution_count": 35,
   "metadata": {
    "collapsed": true
   },
   "outputs": [],
   "source": [
    "#instantiate the model\n",
    "tfidf_vectorizer = TfidfVectorizer(ngram_range=(1,3), max_df = 0.9, min_df = 2)"
   ]
  },
  {
   "cell_type": "code",
   "execution_count": 36,
   "metadata": {
    "collapsed": true
   },
   "outputs": [],
   "source": [
    "X_train_dtm_sparse1 = tfidf_vectorizer.fit_transform(Train_input1)"
   ]
  },
  {
   "cell_type": "code",
   "execution_count": 37,
   "metadata": {
    "collapsed": true
   },
   "outputs": [],
   "source": [
    "# transform training data into document term matrix\n",
    "X_test_dtm_sparse1 = tfidf_vectorizer.transform(Test_input1)"
   ]
  },
  {
   "cell_type": "code",
   "execution_count": 38,
   "metadata": {
    "collapsed": false
   },
   "outputs": [
    {
     "data": {
      "text/plain": [
       "scipy.sparse.csr.csr_matrix"
      ]
     },
     "execution_count": 38,
     "metadata": {},
     "output_type": "execute_result"
    }
   ],
   "source": [
    "type(X_train_dtm_sparse1)"
   ]
  },
  {
   "cell_type": "markdown",
   "metadata": {},
   "source": [
    "### logistic Reg"
   ]
  },
  {
   "cell_type": "code",
   "execution_count": 40,
   "metadata": {
    "collapsed": true
   },
   "outputs": [],
   "source": [
    "from sklearn.metrics import confusion_matrix, accuracy_score\n",
    "from sklearn.linear_model import LogisticRegression "
   ]
  },
  {
   "cell_type": "code",
   "execution_count": 41,
   "metadata": {
    "collapsed": false
   },
   "outputs": [
    {
     "data": {
      "text/plain": [
       "pandas.core.series.Series"
      ]
     },
     "execution_count": 41,
     "metadata": {},
     "output_type": "execute_result"
    }
   ],
   "source": [
    "type(Train_output1)"
   ]
  },
  {
   "cell_type": "code",
   "execution_count": 53,
   "metadata": {
    "collapsed": false
   },
   "outputs": [
    {
     "name": "stdout",
     "output_type": "stream",
     "text": [
      "Wall time: 1min 12s\n"
     ]
    },
    {
     "data": {
      "text/plain": [
       "0.71665502793296088"
      ]
     },
     "execution_count": 53,
     "metadata": {},
     "output_type": "execute_result"
    }
   ],
   "source": [
    "glm = LogisticRegression()\n",
    "\n",
    "%time glm.fit(X_train_dtm_sparse1, np.array(Train_output1))\n",
    "predictions1 = glm.predict(X_test_dtm_sparse1)\n",
    "\n",
    "#print(confusion_matrix(Test_output1, predictions1))\n",
    "accuracy_score(Test_output1, predictions1)"
   ]
  },
  {
   "cell_type": "code",
   "execution_count": null,
   "metadata": {
    "collapsed": true
   },
   "outputs": [],
   "source": []
  },
  {
   "cell_type": "markdown",
   "metadata": {},
   "source": [
    "### Multinomial Naive bayes"
   ]
  },
  {
   "cell_type": "code",
   "execution_count": 54,
   "metadata": {
    "collapsed": false
   },
   "outputs": [
    {
     "name": "stdout",
     "output_type": "stream",
     "text": [
      "Wall time: 879 ms\n"
     ]
    },
    {
     "data": {
      "text/plain": [
       "MultinomialNB(alpha=1.0, class_prior=None, fit_prior=True)"
      ]
     },
     "execution_count": 54,
     "metadata": {},
     "output_type": "execute_result"
    }
   ],
   "source": [
    "nb = MultinomialNB()\n",
    "%time  nb.fit(X_train_dtm_sparse1, np.array(Train_output1))"
   ]
  },
  {
   "cell_type": "code",
   "execution_count": 55,
   "metadata": {
    "collapsed": false
   },
   "outputs": [
    {
     "data": {
      "text/plain": [
       "0.53171554934823095"
      ]
     },
     "execution_count": 55,
     "metadata": {},
     "output_type": "execute_result"
    }
   ],
   "source": [
    "predictions1 = nb.predict(X_test_dtm_sparse1)\n",
    "#print(confusion_matrix(Test_output, predictions1))\n",
    "accuracy_score(Test_output1, predictions1)"
   ]
  },
  {
   "cell_type": "code",
   "execution_count": null,
   "metadata": {
    "collapsed": true
   },
   "outputs": [],
   "source": []
  },
  {
   "cell_type": "markdown",
   "metadata": {},
   "source": [
    "### Random Forest"
   ]
  },
  {
   "cell_type": "code",
   "execution_count": 56,
   "metadata": {
    "collapsed": true
   },
   "outputs": [],
   "source": [
    "from sklearn.ensemble import RandomForestClassifier"
   ]
  },
  {
   "cell_type": "code",
   "execution_count": 57,
   "metadata": {
    "collapsed": true
   },
   "outputs": [],
   "source": [
    "rf = RandomForestClassifier() # initialize"
   ]
  },
  {
   "cell_type": "code",
   "execution_count": 58,
   "metadata": {
    "collapsed": false
   },
   "outputs": [
    {
     "name": "stdout",
     "output_type": "stream",
     "text": [
      "Wall time: 1min 39s\n"
     ]
    },
    {
     "data": {
      "text/plain": [
       "RandomForestClassifier(bootstrap=True, class_weight=None, criterion='gini',\n",
       "            max_depth=None, max_features='auto', max_leaf_nodes=None,\n",
       "            min_impurity_split=1e-07, min_samples_leaf=1,\n",
       "            min_samples_split=2, min_weight_fraction_leaf=0.0,\n",
       "            n_estimators=10, n_jobs=1, oob_score=False, random_state=None,\n",
       "            verbose=0, warm_start=False)"
      ]
     },
     "execution_count": 58,
     "metadata": {},
     "output_type": "execute_result"
    }
   ],
   "source": [
    "%time  rf.fit(X_train_dtm_sparse1, np.array(Train_output1)) # fit the data to the algorithm"
   ]
  },
  {
   "cell_type": "code",
   "execution_count": 60,
   "metadata": {
    "collapsed": false
   },
   "outputs": [
    {
     "data": {
      "text/plain": [
       "0.62383612662942267"
      ]
     },
     "execution_count": 60,
     "metadata": {},
     "output_type": "execute_result"
    }
   ],
   "source": [
    "predictions1 = rf.predict(X_test_dtm_sparse1)\n",
    "#print(confusion_matrix(Test_output1, predictions1))\n",
    "accuracy_score(Test_output1, predictions1)"
   ]
  },
  {
   "cell_type": "code",
   "execution_count": null,
   "metadata": {
    "collapsed": true
   },
   "outputs": [],
   "source": []
  }
 ],
 "metadata": {
  "kernelspec": {
   "display_name": "Python [default]",
   "language": "python",
   "name": "python2"
  },
  "language_info": {
   "codemirror_mode": {
    "name": "ipython",
    "version": 2
   },
   "file_extension": ".py",
   "mimetype": "text/x-python",
   "name": "python",
   "nbconvert_exporter": "python",
   "pygments_lexer": "ipython2",
   "version": "2.7.12"
  }
 },
 "nbformat": 4,
 "nbformat_minor": 1
}
